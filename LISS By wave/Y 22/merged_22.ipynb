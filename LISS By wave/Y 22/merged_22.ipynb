{
 "cells": [
  {
   "cell_type": "code",
   "execution_count": 25,
   "metadata": {},
   "outputs": [],
   "source": [
    "import numpy as np\n",
    "import pandas as pd"
   ]
  },
  {
   "cell_type": "markdown",
   "metadata": {},
   "source": [
    "1. Background variables\n",
    "2. Health\n",
    "3. Religion and Ethnicity\n",
    "3. Social Integration and Leisure\n",
    "4. Family and Household\n",
    "5. Work and Schooling\n",
    "6. Personality\n",
    "7. Values\n",
    "8. Economic Situation: Assets\n",
    "9. Economic Situation: Income\n",
    "10. Economic Situation: Housing"
   ]
  },
  {
   "cell_type": "code",
   "execution_count": 26,
   "metadata": {},
   "outputs": [],
   "source": [
    "bgvar_22 = pd.read_csv('avars_202201_EN_1.0p.csv', sep=';')\n",
    "hea_22 = pd.read_stata('ch22o_EN_1.0p.dta') # Maja\n",
    "rel_22 = pd.read_stata('cr22o_EN_1.0p.dta') # Tyna\n",
    "soc_22 = pd.read_stata('cs22o_EN_1.1p.dta') # Tyna\n",
    "fam_22 = pd.read_stata('cf22o_EN_1.0p.dta') # Tyna\n",
    "wor_22 = pd.read_stata('cw22o_EN_1.0p.dta') # Tyna\n",
    "per_22 = pd.read_stata('cp22n_EN_1.0p.dta') # Maja\n",
    "val_22 = pd.read_stata('cv22n_EN_1.0p.dta') # Maja\n",
    "ass_22 = pd.read_stata('ca22h_EN_1.0p.dta') # Mate\n",
    "inc_22 = pd.read_stata('ci22o_EN_1.0p.dta') # Mate\n",
    "hou_22 = pd.read_stata('cd22o_EN_1.0p.dta') # Mate"
   ]
  },
  {
   "cell_type": "code",
   "execution_count": 27,
   "metadata": {},
   "outputs": [],
   "source": [
    "#column combinators (replaces given columns with one containing their avg values)\n",
    "def average_columns(df, *columns):\n",
    "    new_column_name = columns[-1]\n",
    "    \n",
    "    try:\n",
    "        selected_columns = list(columns[:-1])\n",
    "        avg_col = df[selected_columns].astype(float).mean(axis=1)\n",
    "        return pd.DataFrame({new_column_name: avg_col})\n",
    "    except KeyError as e:\n",
    "        print(f'KeyError: {e} not found in DataFrame columns.')\n",
    "        return pd.DataFrame({new_column_name: np.nan})\n",
    "\n",
    "#replaces given columns with one containing their sums (not working ;-())\n",
    "def sum_columns(df, new_column, *columns):\n",
    "    df[new_column] = df[columns].sum(axis=1)"
   ]
  },
  {
   "cell_type": "markdown",
   "metadata": {},
   "source": [
    "Background variables:\n",
    "\n",
    "1. geslacht to sex\n",
    "2. leeftijd to age\n",
    "3. lftdcat to age_cat\n",
    "4. aantalhh to hhm_num\n",
    "5. aantalki to hh_chi\n",
    "6. burgstat to civ_sta\n",
    "7. woning to dwe_typ\n",
    "8. sted to urb_lvl (Urban character: Surrounding address density per km2 extremely urban 2,500 or more very 1,500 to 2,500 moderately 1,000 to 1,500 slightly 500 to 1,000 not less than 500) \n",
    "9. belbezig to pri_occ \n",
    "10. brutoink to mon_inc \n",
    "11. brutocat mon_inc_cat 12. brutohh_f to hh_inc \n",
    "13. oplzon to edu_lvl"
   ]
  },
  {
   "cell_type": "code",
   "execution_count": 28,
   "metadata": {},
   "outputs": [],
   "source": [
    "bgvar_22[bgvar_22.select_dtypes(include='category').columns] = bgvar_22[bgvar_22.select_dtypes(include='category').columns].apply(lambda col: col.astype('category').cat.codes)\n",
    "bg_var_names = {'nomem_encr':'nomem_encr', 'geslacht':'sex','leeftijd':'age', 'lftdcat':'age_cat', 'aantalhh':'hhm_num', 'aantalki':'hh_chi', 'burgstat':'civ_sta', 'woning':'dwe_typ', 'sted':'urb_lvl',  'belbezig':'pri_occ', 'brutoink':'mon_inc', 'brutocat':'mon_inc_cat','brutohh_f':'hh_inc', 'oplzon':'edu_lvl'}\n",
    "bg_var = bgvar_22.loc[:, list(bg_var_names.keys())].rename(columns=bg_var_names)\n",
    "bg_var['hh_inc'] = pd.to_numeric(bg_var['hh_inc'].str.replace(',', '.'), errors='coerce')"
   ]
  },
  {
   "cell_type": "markdown",
   "metadata": {},
   "source": [
    "Concepts in Health:\n",
    "1. **Subjective health** (ch22o004 to sub_hea)\n",
    "2. **Relative health** (ch22o005 to rel_hea)\n",
    "3. Life expectancy\n",
    "4. **Mental health** (all neg as men_hea_neg and and all pos as men_hea_pos)\n",
    "5. Height, weight\n",
    "6. **Chronical problems** (ch22o018 to disability)\n",
    "7. Health problems\n",
    "8. Impediment in labour\n",
    "9. **Substance use** (ch22o126 to smoker, ch22o133 to alcohol, all substances to subs)\n",
    "10. Medication\n",
    "11. Physical activity - only until 2018\n",
    "12. Health improving behaviour - - only until 2018\n",
    "13. Use of healthcare\n",
    "14. Sight and hearing\n",
    "15. Health insurance"
   ]
  },
  {
   "cell_type": "code",
   "execution_count": 29,
   "metadata": {},
   "outputs": [],
   "source": [
    "#select categorical columns and convert to numeric\n",
    "hea_22[hea_22.select_dtypes(include='category').columns] = hea_22[hea_22.select_dtypes(include='category').columns].apply(lambda col: col.astype('category').cat.codes)\n",
    "\n",
    "#average for mental health and drugs\n",
    "hea_toavg = [('ch22o011','ch22o014','ch22o012', 'men_hea_neg'),('ch22o013', 'ch22o015', 'men_hea_pos'), ('ch22o159', 'ch22o160', 'ch22o161', 'ch22o161', 'ch22o162', 'ch22o163', 'ch22o270', 'subs')]\n",
    "hea_22 = pd.concat([hea_22] + [average_columns(hea_22, *column_set) for column_set in hea_toavg], axis=1)\n",
    "\n",
    "#create a new df hea_22_con with selected columnns and new columns containing avgs (representing concepts)\n",
    "hea_con = {'nomem_encr':'nomem_encr', 'ch22o004': 'sub_hea', 'ch22o005': 'rel_hea', 'ch22o018': 'disability', 'ch22o020':'mob_issues', 'ch22o126':'smoker', 'ch22o133':'alcohol', 'men_hea_neg':'men_hea_neg', 'men_hea_pos':'men_hea_pos', 'subs':'subs'}\n",
    "hea_22_con = hea_22.loc[:, list(hea_con.keys())].rename(columns=hea_con)\n",
    "\n",
    "#hea_22_con.head()"
   ]
  },
  {
   "cell_type": "markdown",
   "metadata": {},
   "source": [
    "Concepts in Religion and Ethnicity:\n",
    "\n",
    "1. **Religious upbringing** (cr23p135 to rel_upb)\n",
    "2. **Religious affiliation** (cr23p144 to rel_aff)\n",
    "3. **Religiosity** (cr23p162 to relig)\n",
    "4. Religious orthodoxy\n",
    "5. Nationality \n",
    "6. **Origin** (cr23p079 – cr23p087 to lang_ori, cr23p079 indicating Dutch or not)\n",
    "7. **Ethnic identification** (cr23p164 to eth_id)\n",
    "8. Language proficiency and use"
   ]
  },
  {
   "cell_type": "code",
   "execution_count": 30,
   "metadata": {},
   "outputs": [],
   "source": [
    "rel_con = {'nomem_encr':'nomem_encr','cr22o135':'rel_upb', 'cr22o144':'rel_aff', 'cr22o162':'relig', 'cr22o079':'lang_ori', 'cr22o164':'eth_id'}\n",
    "rel_22[rel_22.select_dtypes(include='category').columns] = rel_22[rel_22.select_dtypes(include='category').columns].apply(lambda col: col.astype('category').cat.codes)\n",
    "rel_22_con = rel_22.loc[:, list(rel_con.keys())].rename(columns=rel_con)\n",
    "#rel_22_con.head()"
   ]
  },
  {
   "cell_type": "markdown",
   "metadata": {},
   "source": [
    "Concepts in Social Intergation and Leisure:\n",
    "\n",
    "1. Loneliness\n",
    "2. Social contacts \n",
    "3. **Satisfaction leisure** (cs22o001 to lei_sat)\n",
    "4. Social engagement\n",
    "5. Volunteer aid\n",
    "6. Time expenditure voluntary work\n",
    "7. **Cultural participation** (sum cs22o494 - cs22o496 to cul_par)\n",
    "8. **Holidays** (cs22o103 to ab_hol)\n",
    "9. **Sport** (cs22o105 to spo_h)\n",
    "10. Media usage"
   ]
  },
  {
   "cell_type": "code",
   "execution_count": 31,
   "metadata": {},
   "outputs": [
    {
     "name": "stderr",
     "output_type": "stream",
     "text": [
      "/var/folders/rc/7v4gm02n4dl8nxs5j8gsxyz80000gn/T/ipykernel_26573/2150667875.py:3: PerformanceWarning: DataFrame is highly fragmented.  This is usually the result of calling `frame.insert` many times, which has poor performance.  Consider joining all columns at once using pd.concat(axis=1) instead. To get a de-fragmented frame, use `newframe = frame.copy()`\n",
      "  soc_22['cul_sum'] = soc_22[cultosum].sum(axis=1)\n"
     ]
    }
   ],
   "source": [
    "soc_22[soc_22.select_dtypes(include='category').columns] = soc_22[soc_22.select_dtypes(include='category').columns].apply(lambda col: col.astype('category').cat.codes)\n",
    "cultosum = ['cs22o494', 'cs22o495', 'cs22o517', 'cs22o093', 'cs22o094', 'cs22o568', 'cs22o516', 'cs22o496']\n",
    "soc_22['cul_sum'] = soc_22[cultosum].sum(axis=1)\n",
    "soc_con = {'nomem_encr':'nomem_encr','cs22o001':'lei_sat', 'cul_sum':'cul_par', 'cs22o103':'ab_hol', 'cs22o105':'spo_h'}\n",
    "soc_22_con = soc_22.loc[:, list(soc_con.keys())].rename(columns=soc_con)\n",
    "#soc_22_con.head()"
   ]
  },
  {
   "cell_type": "markdown",
   "metadata": {},
   "source": [
    "Concepts in Family and Household:\n",
    "\n",
    "1. **Parental relations** (cf22o145+cf22o146 to par_int)\n",
    "2. **Partnership** (cf22o025 to liv_tog)\n",
    "3. Marriage\n",
    "4. Marital history\n",
    "5. **Children** (cf22o455 to chi_num, cf22o456 to chi1_bir)\n",
    "6. **Partnership and childbirth intentions** (cf22o128 to chi_fut)\n",
    "7. Infertility\n",
    "8. Parental support\n",
    "9. Parent support\n",
    "10. Quality of relationship\n",
    "11. Division of domestic tasks\n",
    "12. Perceived burden domestic tasks\n",
    "13. Perceived burden child care\n",
    "14. Perceived fairness division tasks\n",
    "15. Child education: Supervision\n",
    "16. Childcare"
   ]
  },
  {
   "cell_type": "code",
   "execution_count": 32,
   "metadata": {},
   "outputs": [
    {
     "name": "stderr",
     "output_type": "stream",
     "text": [
      "/var/folders/rc/7v4gm02n4dl8nxs5j8gsxyz80000gn/T/ipykernel_26573/1577856911.py:3: PerformanceWarning: DataFrame is highly fragmented.  This is usually the result of calling `frame.insert` many times, which has poor performance.  Consider joining all columns at once using pd.concat(axis=1) instead. To get a de-fragmented frame, use `newframe = frame.copy()`\n",
      "  fam_22['fam_sum'] = fam_22[famtosum].sum(axis=1)\n"
     ]
    }
   ],
   "source": [
    "fam_22[fam_22.select_dtypes(include='category').columns] = fam_22[fam_22.select_dtypes(include='category').columns].apply(lambda col: col.astype('category').cat.codes)\n",
    "famtosum = ['cf22o143', 'cf22o144']\n",
    "fam_22['fam_sum'] = fam_22[famtosum].sum(axis=1)\n",
    "fam_con = {'nomem_encr':'nomem_encr', 'fam_sum':'par_int', 'cf22o025':'liv_tog', 'cf22o455':'chi_num', 'cf22o456':'chi1_bir', 'cf22o128':'chi_fut'}\n",
    "fam_22_con = fam_22.loc[:, list(fam_con.keys())].rename(columns=fam_con)\n",
    "#fam_22_con.head()"
   ]
  },
  {
   "cell_type": "markdown",
   "metadata": {},
   "source": [
    "Concepts in Work and Schooling:\n",
    "\n",
    "1. Employment / activity status\n",
    "2. Hours of paid work\n",
    "3. **Characteristics current or last job** (cw22o136 to wor_min, cw22o140 to wor_nig, cw22o142 to wor_hom, cw22o402 to wor_sect)\n",
    "4. Average pay job\n",
    "5. Second jobs\n",
    "6. Work aspirations\n",
    "7. **Satisfaction** (cw22o128 to inc_sat)\n",
    "8. Employment conditions\n",
    "9. Commuting\n",
    "10. Pensions\n",
    "11. Non-working, non-pension\n",
    "12. Job search\n",
    "13. Satisfaction education\n",
    "14. Highest qualification\n",
    "15. Highest education\n",
    "16. Qualifications for job\n",
    "17. Education and training in last year\n",
    "\n",
    "cw22o439 to chi_<8"
   ]
  },
  {
   "cell_type": "code",
   "execution_count": 33,
   "metadata": {},
   "outputs": [],
   "source": [
    "wor_22[wor_22.select_dtypes(include='category').columns] = wor_22[wor_22.select_dtypes(include='category').columns].apply(lambda col: col.astype('category').cat.codes)\n",
    "wor_con = {'nomem_encr':'nomem_encr', 'cw22o136':'wor_min', 'cw22o140':'wor_nig', 'cw22o142':'wor_hom', 'cw22o402':'wor_sect', 'cw22o128':'inc_sat', 'cw22o439':'chi_<8'}\n",
    "wor_22_con = wor_22.loc[:, list(wor_con.keys())].rename(columns=wor_con)\n",
    "#wor_22_con.head()"
   ]
  },
  {
   "cell_type": "markdown",
   "metadata": {},
   "source": [
    "Concepts in Personality:\n",
    "1. Happiness\n",
    "2. **Life satisfaction** (cp22n014-016 to life_satf, cp22n070-079 as self_est_pos or self_est_neg)\n",
    "3. Big five personality\n",
    "4. Survey attitude\n",
    "5. Self esteem\n",
    "6. Mood\n",
    "7. Need to evaluate\n",
    "8. **Value orientation** (cp22n100 to res, cp22n110 to ind, cp22n118 to fam_sec, cp22n119 to free, cp22n129 to comf_life, cp22n133 to soc_rec)\n",
    "9. Inclusion of Others in the Self\n",
    "10. Social desirability\n",
    "11. Affects\n",
    "12. Need for Cognition\n",
    "13. **Social trust** (cp22n019 to trust )"
   ]
  },
  {
   "cell_type": "code",
   "execution_count": 34,
   "metadata": {},
   "outputs": [],
   "source": [
    "per_22[per_22.select_dtypes(include='category').columns] = per_22[per_22.select_dtypes(include='category').columns].apply(lambda col: col.astype('category').cat.codes)\n",
    "\n",
    "#averages for life satisfaction and self-esteem\n",
    "per_toavg = [('cp22n014','cp22n015','cp22n016', 'cp22n017', 'cp22n018','life_satf'),('cp22n070', 'cp22n071', 'cp22n073', 'cp22n075', 'cp22n076', 'self_est_pos'), ('cp22n072', 'cp22n074', 'cp22n078', 'cp22n079', 'self_est_neg')]\n",
    "per_22 = pd.concat([per_22] + [average_columns(per_22, *column_set) for column_set in per_toavg], axis=1)\n",
    "\n",
    "#create a new df per_22_con with selected columnns and new columns containing avgs (representing concepts)\n",
    "per_con = {'nomem_encr':'nomem_encr','cp22n100': 'resp', 'cp22n110': 'ind','cp22n118': 'fam_sec','cp22n119': 'free', 'cp22n133': 'soc_rec', 'cp22n129': 'comf_life', 'cp22n019': 'trust', 'life_satf':'life_satf', 'self_est_pos':'self_est_pos', 'self_est_neg':'self_est_neg' }\n",
    "per_22_con = per_22.loc[:, list(per_con.keys())].rename(columns=per_con)\n",
    "\n",
    "#per_22_con.head()"
   ]
  },
  {
   "cell_type": "markdown",
   "metadata": {},
   "source": [
    "Concepts in Values:\n",
    "1. Beliefs about maternal employment\n",
    "2. **Gender role attitudes** (cv22n113 to gend_roles)\n",
    "3. Political position ethnic minorities *page not working*\n",
    "4. Right wing attitudes *page not working*\n",
    "5. **Attitude towards foreigners** (cv22n120 to nationalist)\n",
    "6. Marriage attitudes\n",
    "7. Family solidarity\n",
    "8. Norm of having children\n",
    "9. Work ethic\n",
    "10. Conservatism\n",
    "11. Economic conservatism"
   ]
  },
  {
   "cell_type": "code",
   "execution_count": 35,
   "metadata": {},
   "outputs": [],
   "source": [
    "val_22[val_22.select_dtypes(include='category').columns] = val_22[val_22.select_dtypes(include='category').columns].apply(lambda col: col.astype('category').cat.codes)\n",
    "\n",
    "#create a new df val_22_con with selected columnns and new columns containing avgs (representing concepts)\n",
    "val_con = {'nomem_encr':'nomem_encr','cv22n113': 'gend_roles', 'cv22n120': 'nationalist'}\n",
    "val_22_con = val_22.loc[:, list(val_con.keys())].rename(columns=val_con)\n",
    "\n",
    "#val_22_con.head()"
   ]
  },
  {
   "cell_type": "markdown",
   "metadata": {},
   "source": [
    "Concepts in Economic Situtation: Assets:\n",
    "1. **Assets** (ca22h008 to ass_own, ca22h023 to ass_val, ca22h012 to tot_bal)"
   ]
  },
  {
   "cell_type": "code",
   "execution_count": 36,
   "metadata": {},
   "outputs": [],
   "source": [
    "#mapping dictionary for asset value\n",
    "mean_mapping = {\n",
    "    -1: None,\n",
    "    0: 250,\n",
    "    1: 1000,\n",
    "    2: 2000,\n",
    "    3: 3750,\n",
    "    4: 6250,\n",
    "    5: 8750,\n",
    "    6: 11000,\n",
    "    7: 13500,\n",
    "    8: 17500,\n",
    "    9: 22500,\n",
    "    10: 37500,\n",
    "    11: 62500,\n",
    "    12: 87500,\n",
    "    13: 100000,\n",
    "    14: None,\n",
    "}\n",
    "\n",
    "ass_22['ca22h023'] = ass_22['ca22h023'].replace(\"I don't know\", np.nan).combine_first(ass_22['ca22h024'].map(mean_mapping))"
   ]
  },
  {
   "cell_type": "code",
   "execution_count": 37,
   "metadata": {},
   "outputs": [],
   "source": [
    "#mapping dictionary for total balance\n",
    "mean_mapping = {\n",
    "    -1: None,\n",
    "    0: 25,\n",
    "    1: 150,\n",
    "    2: 375,\n",
    "    3: 625,\n",
    "    4: 875,\n",
    "    5: 1750,\n",
    "    6: 3725,\n",
    "    7: 6250,\n",
    "    8: 10750,\n",
    "    9: 12750,\n",
    "    10: 15500,\n",
    "    11: 18500,\n",
    "    12: 22500,\n",
    "    13: 25000,\n",
    "    14: None,\n",
    "}\n",
    "\n",
    "#for don't know\n",
    "ass_22['ca22h012'] = ass_22['ca22h012'].replace(-9999999999, np.nan).combine_first(ass_22['ca22h023'].map(mean_mapping))\n",
    "#for prefer not to say\n",
    "ass_22['ca22h012'] = ass_22['ca22h012'].replace(-9999999998, np.nan).combine_first(ass_22['ca22h023'].map(mean_mapping))"
   ]
  },
  {
   "cell_type": "code",
   "execution_count": 38,
   "metadata": {},
   "outputs": [],
   "source": [
    "##quality check\n",
    "#column_checked = 'ca22h012'\n",
    "#checked_with = 'ca22h013'\n",
    "#dont_know_value = -9999999999\n",
    "#wont_say_value = -9999999998\n",
    "\n",
    "#print(f'The percentage of NaN values in {column_checked} is {ass_22[column_checked].isna().mean() * 100}')\n",
    "#dont_know_percentage = (ass_22[column_checked] == dont_know_value ).mean() * 100\n",
    "##wont_say_percentage = (ass_22[column_checked] == wont_say_value).mean() * 100\n",
    "\n",
    "#print(f\"The percentage of  'I don't know' is {dont_know_percentage}, 'I prefer not to say' is {wont_say_percentage}\")\n",
    "\n",
    "##print(ass_22[checked_with].value_counts(normalize=True) * 100, ass_22[checked_with].isna().mean() * 100)"
   ]
  },
  {
   "cell_type": "code",
   "execution_count": 39,
   "metadata": {},
   "outputs": [],
   "source": [
    "ass_22['ca22h023'] = pd.to_numeric(ass_22['ca22h023'], errors='coerce')\n",
    "ass_22['ca22h012'] = pd.to_numeric(ass_22['ca22h012'], errors='coerce')\n",
    "\n",
    "ass_22[ass_22.select_dtypes(include='category').columns] = ass_22[ass_22.select_dtypes(include='category').columns].apply(lambda col: col.astype('category').cat.codes)\n",
    "\n",
    "#if car assets owned = 0 then car assets value = 0\n",
    "ass_22.loc[ass_22['ca22h008'] == 0, 'ca22h023'] = 0\n",
    "\n",
    "#if assets/money saved = 0 then tot_bal = 0\n",
    "ass_22.loc[ass_22['ca22h078'] == 0, 'ca22h012'] = 0\n"
   ]
  },
  {
   "cell_type": "code",
   "execution_count": 40,
   "metadata": {},
   "outputs": [
    {
     "data": {
      "text/plain": [
       "\"ass_con = {'nomem_encr':'nomem_encr', 'ca22h008':'ass_own','ca22h023':'ass_val', 'ca22h012':'tot_bal'}\\n\\nass_22_con = ass_22.loc[:, list(ass_con.keys())].rename(columns=ass_con)\\n\\nass_22_con.head()\""
      ]
     },
     "execution_count": 40,
     "metadata": {},
     "output_type": "execute_result"
    }
   ],
   "source": [
    "#assets to concepts done later\n",
    "\"\"\"ass_con = {'nomem_encr':'nomem_encr', 'ca22h008':'ass_own','ca22h023':'ass_val', 'ca22h012':'tot_bal'}\n",
    "\n",
    "ass_22_con = ass_22.loc[:, list(ass_con.keys())].rename(columns=ass_con)\n",
    "\n",
    "ass_22_con.head()\"\"\""
   ]
  },
  {
   "cell_type": "markdown",
   "metadata": {},
   "source": [
    "Concepts in Income: \n",
    "1. Subjective standard of living\n",
    "2. Satisfaction income\n",
    "3. Employment income / Earnings cj008\n",
    "4. Self-employment income\n",
    "5. Non-employment income: pension\n",
    "6. Non-employment income: benefits\n",
    "7. Non-employment income: other\n",
    "8. Credit, debt, payments\n",
    "9. **Total income** (ci22o226 to income)\n",
    "10. **Financial/material well-being** (ci22o252 to fin_sit)\n",
    "11. Financial expectations\n",
    "12. Financial management\n",
    "13. Material deprivation\n"
   ]
  },
  {
   "cell_type": "code",
   "execution_count": 41,
   "metadata": {},
   "outputs": [],
   "source": [
    "inc_22[inc_22.select_dtypes(include='category').columns] = inc_22[inc_22.select_dtypes(include='category').columns].apply(lambda col: col.astype('category').cat.codes)"
   ]
  },
  {
   "cell_type": "code",
   "execution_count": 42,
   "metadata": {},
   "outputs": [
    {
     "data": {
      "text/plain": [
       "\"\\n#create a new df per_22_con with selected columnns and new columns containing avgs (representing concepts)\\ninc_con = {'nomem_encr':'nomem_encr','ci22o226': 'income', 'ci22o252': 'fin_sit' }\\ninc_22_con = inc_22.loc[:, list(inc_con.keys())].rename(columns=inc_con)\\n\\n#ready\\ninc_22_con.head()\""
      ]
     },
     "execution_count": 42,
     "metadata": {},
     "output_type": "execute_result"
    }
   ],
   "source": [
    "#inc to concepts done later\n",
    "\"\"\"\n",
    "#create a new df per_22_con with selected columnns and new columns containing avgs (representing concepts)\n",
    "inc_con = {'nomem_encr':'nomem_encr','ci22o226': 'income', 'ci22o252': 'fin_sit' }\n",
    "inc_22_con = inc_22.loc[:, list(inc_con.keys())].rename(columns=inc_con)\n",
    "\n",
    "#ready\n",
    "inc_22_con.head()\"\"\""
   ]
  },
  {
   "cell_type": "markdown",
   "metadata": {},
   "source": [
    "Concepts for Housing:\n",
    "1. Satisfaction housing\n",
    "2. Housing characteristics\n",
    "3. Housing expenditure \n",
    "4. **Housing wealth** (cd22o025 to pur_price)"
   ]
  },
  {
   "cell_type": "code",
   "execution_count": 43,
   "metadata": {},
   "outputs": [],
   "source": [
    "#calculate rent amount\n",
    "rent_freq = {\n",
    "    'month': 1,\n",
    "    'quarter': 3,\n",
    "    'half year': 6,\n",
    "    'year': 12,\n",
    "    'week': 4,\n",
    "    'two weeks': 2,\n",
    "    'four weeks': 1,\n",
    "    \"I don't know\": None,\n",
    "    'I prefer not to say': None\n",
    "}\n",
    "\n",
    "hou_22['cd22o008'] = pd.to_numeric(hou_22['cd22o008'], errors='coerce')\n",
    "hou_22['cd22o093'] = hou_22['cd22o093'].astype('category')  # If not already a category\n",
    "hou_22['cd22o093_numeric'] = hou_22['cd22o093'].map(rent_freq)\n",
    "\n",
    "hou_22['rent'] = hou_22['cd22o008'] / hou_22['cd22o093_numeric']"
   ]
  },
  {
   "cell_type": "code",
   "execution_count": 44,
   "metadata": {},
   "outputs": [],
   "source": [
    "hou_22[hou_22.select_dtypes(include='category').columns] = hou_22[hou_22.select_dtypes(include='category').columns].apply(lambda col: col.astype('category').cat.codes)"
   ]
  },
  {
   "cell_type": "code",
   "execution_count": 45,
   "metadata": {},
   "outputs": [
    {
     "data": {
      "text/plain": [
       "\"hou_con = {'nomem_encr':'nomem_encr', 'cd22o003': 'hou_type', 'rent': 'rent','cd22o025': 'pur_price' }\\nhou_22_con = hou_22.loc[:, list(hou_con.keys())].rename(columns=hou_con)\\n#hou_22_con.head()\""
      ]
     },
     "execution_count": 45,
     "metadata": {},
     "output_type": "execute_result"
    }
   ],
   "source": [
    "#housing to concepts done later\n",
    "\"\"\"hou_con = {'nomem_encr':'nomem_encr', 'cd22o003': 'hou_type', 'rent': 'rent','cd22o025': 'pur_price' }\n",
    "hou_22_con = hou_22.loc[:, list(hou_con.keys())].rename(columns=hou_con)\n",
    "#hou_22_con.head()\"\"\""
   ]
  },
  {
   "cell_type": "code",
   "execution_count": 46,
   "metadata": {},
   "outputs": [],
   "source": [
    "from sklearn.experimental import enable_iterative_imputer\n",
    "from sklearn.impute import IterativeImputer\n",
    "\n",
    "#for economic\n",
    "econs_22 = [bgvar_22, inc_22, ass_22, hou_22]\n",
    "\n",
    "econ_22 = econs_22[0]\n",
    "\n",
    "for econ in econs_22[1:]:\n",
    "    econ_22 = pd.merge(econ_22, econ, on='nomem_encr', how='inner')\n",
    "\n",
    "cols_for_imputation = ['ca22h023'] #ass_val\n",
    "\n",
    "imputer = IterativeImputer(max_iter=10, random_state=0)\n",
    "\n",
    "impute_data = econ_22[(econ_22['ca22h023'] == 99999999) | econ_22['ca22h023'].isna()]\n",
    "\n",
    "# Fit and transform the selected columns using IterativeImputer\n",
    "imputed_data = imputer.fit_transform(impute_data[['ca22h023']])\n",
    "econ_22.loc[(econ_22['ca22h023'] == 99999999) | econ_22['ca22h023'].isna(), 'ca22h023'] = imputed_data\n",
    "\n",
    "#to econ_con\n",
    "econ_con = {'nomem_encr':'nomem_encr', 'ca22h008':'ass_own','ca22h023':'ass_val', 'ca22h012':'tot_bal', 'ci22o226': 'income', 'ci22o252': 'fin_sit', 'cd22o025': 'pur_price', 'cd22o003': 'hou_type', 'rent': 'rent'}\n",
    "econ_22_con = econ_22.loc[:, list(econ_con.keys())].rename(columns=econ_con)"
   ]
  },
  {
   "cell_type": "code",
   "execution_count": 47,
   "metadata": {},
   "outputs": [
    {
     "data": {
      "text/plain": [
       "\"ass_con = {'nomem_encr':'nomem_encr', 'ca22h008':'ass_own','ca22h023':'ass_val', 'ca22h012':'tot_bal'}\\nass_22_con = ass_22.loc[:, list(ass_con.keys())].rename(columns=ass_con)\\ninc_con = {'nomem_encr':'nomem_encr','ci22o226': 'income', 'ci22o252': 'fin_sit' }\\ninc_22_con = inc_22.loc[:, list(inc_con.keys())].rename(columns=inc_con)\\nhou_con = {'nomem_encr':'nomem_encr', 'cd22o003': 'hou_type', 'rent': 'rent','cd22o025': 'pur_price' }\\nhou_22_con = hou_22.loc[:, list(hou_con.keys())].rename(columns=hou_con)\\n#hou_22_con.head()\""
      ]
     },
     "execution_count": 47,
     "metadata": {},
     "output_type": "execute_result"
    }
   ],
   "source": [
    "#all econ to concepts ....not necessary i think\n",
    "\"\"\"ass_con = {'nomem_encr':'nomem_encr', 'ca22h008':'ass_own','ca22h023':'ass_val', 'ca22h012':'tot_bal'}\n",
    "ass_22_con = ass_22.loc[:, list(ass_con.keys())].rename(columns=ass_con)\n",
    "inc_con = {'nomem_encr':'nomem_encr','ci22o226': 'income', 'ci22o252': 'fin_sit' }\n",
    "inc_22_con = inc_22.loc[:, list(inc_con.keys())].rename(columns=inc_con)\n",
    "hou_con = {'nomem_encr':'nomem_encr', 'cd22o003': 'hou_type', 'rent': 'rent','cd22o025': 'pur_price' }\n",
    "hou_22_con = hou_22.loc[:, list(hou_con.keys())].rename(columns=hou_con)\n",
    "#hou_22_con.head()\"\"\"\n"
   ]
  },
  {
   "cell_type": "code",
   "execution_count": 48,
   "metadata": {},
   "outputs": [],
   "source": [
    "#merge\n",
    "all_22 = [bg_var, fam_22_con, hea_22_con, per_22_con, soc_22_con, val_22_con, wor_22_con, econ_22_con]\n",
    "\n",
    "merged_22 = all_22[0]\n",
    "\n",
    "for all in all_22[1:]:\n",
    "    merged_22 = pd.merge(merged_22, all, on='nomem_encr', how='inner')"
   ]
  },
  {
   "cell_type": "code",
   "execution_count": 49,
   "metadata": {},
   "outputs": [],
   "source": [
    "from sklearn.impute import SimpleImputer\n",
    "\n",
    "#replace empty values with NaN\n",
    "merged_22.replace(' ', pd.NA, inplace=True)\n",
    "\n",
    "#set nan to 0 for specific columns\n",
    "to_0 = ['rent', 'pur_price', 'chi1_bir']\n",
    "merged_22[to_0] = merged_22[to_0].fillna(0)\n",
    "\n",
    "#use SimpleImputer for numeric variables - tot_bal shouldnt probably be here (not accurate with mean)\n",
    "numeric_vars = ['spo_h', 'wor_min', 'chi_num', 'tot_bal', 'hh_inc']\n",
    "numeric_imputer = SimpleImputer(strategy='mean')\n",
    "merged_22[numeric_vars] = numeric_imputer.fit_transform(merged_22[numeric_vars])\n",
    "\n",
    "#drop na in urb_lvl\n",
    "merged_22.dropna(subset=['urb_lvl'], inplace=True)\n"
   ]
  },
  {
   "cell_type": "code",
   "execution_count": 50,
   "metadata": {},
   "outputs": [],
   "source": [
    "##nan checker\n",
    "#column_to_check = \"urb_lvl\"\n",
    "#print(f'The percentage of NaN values in {column_to_check} is {merged_22[column_to_check].isna().mean() * 100}')\n"
   ]
  },
  {
   "cell_type": "code",
   "execution_count": 51,
   "metadata": {},
   "outputs": [],
   "source": [
    "##checking for remaning columns with nan values\n",
    "#print(f'There dtypes in merged_22 are {merged_22.dtypes.unique()}')\n",
    "#print(f'The columns in merged_22 with remaining NaN values are {merged_22.isna().mean().sort_values(ascending=False).head()}')"
   ]
  },
  {
   "cell_type": "code",
   "execution_count": 52,
   "metadata": {},
   "outputs": [
    {
     "name": "stdout",
     "output_type": "stream",
     "text": [
      "Mean Squared Error: 0.0\n"
     ]
    },
    {
     "data": {
      "image/png": "[encoded data removed]",
      "text/plain": [
       "<Figure size 2000x2000 with 1 Axes>"
      ]
     },
     "metadata": {},
     "output_type": "display_data"
    }
   ],
   "source": [
    "#not working with ass_own :(\n",
    "from sklearn.tree import DecisionTreeRegressor\n",
    "from sklearn.model_selection import train_test_split\n",
    "from sklearn.metrics import mean_squared_error\n",
    "import matplotlib.pyplot as plt\n",
    "from sklearn.tree import plot_tree\n",
    "\n",
    "X = merged_22.drop('ass_own', axis=1)\n",
    "y = merged_22['ass_own']\n",
    "\n",
    "X_train, X_test, y_train, y_test = train_test_split(X, y, test_size=0.2, random_state=42)\n",
    "\n",
    "regressor = DecisionTreeRegressor(random_state=42)\n",
    "\n",
    "regressor.fit(X_train, y_train)\n",
    "\n",
    "y_pred = regressor.predict(X_test)\n",
    "\n",
    "mse = mean_squared_error(y_test, y_pred)\n",
    "print(f'Mean Squared Error: {mse}')\n",
    "\n",
    "plt.figure(figsize=(20, 20))\n",
    "plot_tree(regressor, filled=True, feature_names=X.columns, rounded=True, fontsize=10)\n",
    "plt.show()\n"
   ]
  },
  {
   "cell_type": "code",
   "execution_count": 53,
   "metadata": {},
   "outputs": [
    {
     "name": "stdout",
     "output_type": "stream",
     "text": [
      "|--- ass_val <= 0.50\n",
      "|   |--- value: [0.00]\n",
      "|--- ass_val >  0.50\n",
      "|   |--- value: [1.00]\n",
      "\n"
     ]
    },
    {
     "data": {
      "image/png": "[encoded data removed]",
      "text/plain": [
       "<Figure size 3000x1000 with 1 Axes>"
      ]
     },
     "metadata": {},
     "output_type": "display_data"
    }
   ],
   "source": [
    "from sklearn.tree import DecisionTreeRegressor, export_text\n",
    "\n",
    "instance_index = 0 \n",
    "decision_path = regressor.decision_path(X.iloc[[instance_index]])\n",
    "\n",
    "decision_path_array = decision_path.toarray()\n",
    "\n",
    "tree_rules = export_text(regressor, feature_names=list(X.columns))\n",
    "print(tree_rules)\n",
    "\n",
    "plt.figure(figsize=(30, 10))\n",
    "plt.imshow(decision_path_array, cmap='viridis', aspect='auto')\n",
    "plt.title('Decision Path for Instance {}'.format(instance_index))\n",
    "plt.xlabel('Nodes')\n",
    "plt.ylabel('Depth')\n",
    "plt.show()"
   ]
  }
 ],
 "metadata": {
  "kernelspec": {
   "display_name": "base",
   "language": "python",
   "name": "python3"
  },
  "language_info": {
   "codemirror_mode": {
    "name": "ipython",
    "version": 3
   },
   "file_extension": ".py",
   "mimetype": "text/x-python",
   "name": "python",
   "nbconvert_exporter": "python",
   "pygments_lexer": "ipython3",
   "version": "3.11.5"
  },
  "orig_nbformat": 4
 },
 "nbformat": 4,
 "nbformat_minor": 2
}
