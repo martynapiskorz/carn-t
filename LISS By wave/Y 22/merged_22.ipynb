{
 "cells": [
  {
   "cell_type": "code",
   "execution_count": 1,
   "metadata": {},
   "outputs": [],
   "source": [
    "import numpy as np\n",
    "import pandas as pd"
   ]
  },
  {
   "cell_type": "code",
   "execution_count": 2,
   "metadata": {},
   "outputs": [],
   "source": [
    "hea_22 = pd.read_stata('ch22o_EN_1.0p.dta')\n",
    "rel_22 = pd.read_stata('cr22o_EN_1.0p.dta')\n",
    "soc_22 = pd.read_stata('cs22o_EN_1.1p.dta')\n",
    "fam_22 = pd.read_stata('cf22o_EN_1.0p.dta')\n",
    "wor_22 = pd.read_stata('cw22o_EN_1.0p.dta')\n",
    "per_22 = pd.read_stata('cp22n_EN_1.0p.dta')\n",
    "val_22 = pd.read_stata('cv22n_EN_1.0p.dta')\n",
    "ass_22 = pd.read_stata('ca22h_EN_1.0p.dta')\n",
    "inc_22 = pd.read_stata('ci22o_EN_1.0p.dta')\n",
    "hou_22 = pd.read_stata('cd22o_EN_1.0p.dta')"
   ]
  },
  {
   "cell_type": "code",
   "execution_count": null,
   "metadata": {},
   "outputs": [],
   "source": [
    "all_22 = [ass_22, hou_22, fam_22, hea_22, inc_22, per_22, soc_22, val_22, wor_22]\n",
    "\n",
    "merged_22 = all_22[0]\n",
    "\n",
    "for all in all_22[1:]:\n",
    "    merged_22 = pd.merge(merged_22, all, on='nomem_encr', how='inner')"
   ]
  },
  {
   "cell_type": "code",
   "execution_count": null,
   "metadata": {},
   "outputs": [],
   "source": [
    "merged_22.head()"
   ]
  },
  {
   "cell_type": "code",
   "execution_count": null,
   "metadata": {},
   "outputs": [],
   "source": [
    "m22_80nan = merged_22.columns[merged_22.isna().mean() > 0.8].tolist()\n",
    "clean_22 = merged_22.drop(columns=m22_80nan, axis=1)\n",
    "clean_22.head()"
   ]
  },
  {
   "cell_type": "code",
   "execution_count": null,
   "metadata": {},
   "outputs": [],
   "source": [
    "#column combinators (replaces given columns with one containing their avg values)\n",
    "def average_columns(df, new_column, *columns):\n",
    "    df[new_column] = df[columns].mean(axis=1)\n",
    "    df.drop(columns=list(columns), axis=1, inplace=True)\n",
    "\n",
    "def sum_columns(df, new_column, *columns):\n",
    "    df[new_column] = df[columns].sum(axis=1)"
   ]
  },
  {
   "cell_type": "markdown",
   "metadata": {},
   "source": [
    "concepts in health:\n",
    "1. subjective health (ch22o004 to sub_hea)\n",
    "2. relative health (ch22o005 to rel_hea)\n",
    "3. life expectancy\n",
    "4. mental health (all neg as men_hea_neg and and all pos as men_hea_pos)\n",
    "5. height, weight\n",
    "6. chronical problems (ch22o018 to disability)\n",
    "7. health problems\n",
    "8. impediment in labour\n",
    "9. sex drugs alcohol ()"
   ]
  },
  {
   "cell_type": "code",
   "execution_count": null,
   "metadata": {},
   "outputs": [],
   "source": [
    "hea_toavg = [('ch22o011','ch22o14','ch22o12', 'men_hea_neg'),('ch22o013', 'ch22o015', 'men_hea_pos'), ]\n",
    "hea_tosum = [()]\n",
    "hea_todrop = []\n",
    "\n",
    "for set_tuple in hea_tocombine:\n",
    "    average_columns(clean_22, *set_tuple)\n",
    "\n",
    "print(clean_22)"
   ]
  },
  {
   "cell_type": "code",
   "execution_count": null,
   "metadata": {},
   "outputs": [],
   "source": [
    "hea_con = {'ch22o004': 'sub_hea', 'ch22o005': 'rel_hea', 'ch22o018': 'disability', 'ch22o020':'mob_issues', 'ch22o126':'smoker', 'ch22o133':'alcohol', 'drugs' }\n"
   ]
  },
  {
   "cell_type": "code",
   "execution_count": null,
   "metadata": {},
   "outputs": [],
   "source": []
  },
  {
   "cell_type": "code",
   "execution_count": null,
   "metadata": {},
   "outputs": [],
   "source": [
    "#no of cars, motorcycles, boats, (static) caravans is ca22h008\n",
    "#value is ca22h023 ??????????????what now"
   ]
  },
  {
   "cell_type": "markdown",
   "metadata": {},
   "source": [
    "Concepts in religion and ethnicity:\n",
    "\n",
    "1. Religious upbringing (cr23p135 to rel_upb)\n",
    "2. Religious affiliation (cr23p144 to rel_aff)\n",
    "3. Religiosity (cr23p162 to relig)\n",
    "4. Religious orthodoxy\n",
    "5. Nationality \n",
    "6. Origin (cr23p079 – cr23p087 to lang_ori, cr23p079 indicating Dutch or not)\n",
    "7. Ethnic identification (cr23p164 to eth_id)\n",
    "8. Language proficiency and use"
   ]
  },
  {
   "cell_type": "code",
   "execution_count": 22,
   "metadata": {},
   "outputs": [
    {
     "data": {
      "text/html": [
       "<div>\n",
       "<style scoped>\n",
       "    .dataframe tbody tr th:only-of-type {\n",
       "        vertical-align: middle;\n",
       "    }\n",
       "\n",
       "    .dataframe tbody tr th {\n",
       "        vertical-align: top;\n",
       "    }\n",
       "\n",
       "    .dataframe thead th {\n",
       "        text-align: right;\n",
       "    }\n",
       "</style>\n",
       "<table border=\"1\" class=\"dataframe\">\n",
       "  <thead>\n",
       "    <tr style=\"text-align: right;\">\n",
       "      <th></th>\n",
       "      <th>rel_upb</th>\n",
       "      <th>rel_aff</th>\n",
       "      <th>relig</th>\n",
       "      <th>lang_ori</th>\n",
       "      <th>eth_id</th>\n",
       "    </tr>\n",
       "  </thead>\n",
       "  <tbody>\n",
       "    <tr>\n",
       "      <th>0</th>\n",
       "      <td>NaN</td>\n",
       "      <td>NaN</td>\n",
       "      <td>4</td>\n",
       "      <td>Yes</td>\n",
       "      <td>Very strongly</td>\n",
       "    </tr>\n",
       "    <tr>\n",
       "      <th>1</th>\n",
       "      <td>Dutch Reformed Church (from 2004 the Protestan...</td>\n",
       "      <td>Dutch Reformed Churches</td>\n",
       "      <td>1</td>\n",
       "      <td>Yes</td>\n",
       "      <td>Fairly strongly</td>\n",
       "    </tr>\n",
       "    <tr>\n",
       "      <th>2</th>\n",
       "      <td>Reformed Churches in the Netherlands, synodal ...</td>\n",
       "      <td>Protestant Church in the Netherlands (this inc...</td>\n",
       "      <td>I dont know</td>\n",
       "      <td>Yes</td>\n",
       "      <td>Not so strongly</td>\n",
       "    </tr>\n",
       "    <tr>\n",
       "      <th>3</th>\n",
       "      <td>Roman Catholic</td>\n",
       "      <td>NaN</td>\n",
       "      <td>4</td>\n",
       "      <td>No</td>\n",
       "      <td>Not strongly at all</td>\n",
       "    </tr>\n",
       "    <tr>\n",
       "      <th>4</th>\n",
       "      <td>NaN</td>\n",
       "      <td>NaN</td>\n",
       "      <td>4</td>\n",
       "      <td>Yes</td>\n",
       "      <td>Fairly strongly</td>\n",
       "    </tr>\n",
       "  </tbody>\n",
       "</table>\n",
       "</div>"
      ],
      "text/plain": [
       "                                             rel_upb  \\\n",
       "0                                                NaN   \n",
       "1  Dutch Reformed Church (from 2004 the Protestan...   \n",
       "2  Reformed Churches in the Netherlands, synodal ...   \n",
       "3                                     Roman Catholic   \n",
       "4                                                NaN   \n",
       "\n",
       "                                             rel_aff         relig lang_ori  \\\n",
       "0                                                NaN             4      Yes   \n",
       "1                            Dutch Reformed Churches             1      Yes   \n",
       "2  Protestant Church in the Netherlands (this inc...  I dont know      Yes   \n",
       "3                                                NaN             4       No   \n",
       "4                                                NaN             4      Yes   \n",
       "\n",
       "                eth_id  \n",
       "0        Very strongly  \n",
       "1      Fairly strongly  \n",
       "2      Not so strongly  \n",
       "3  Not strongly at all  \n",
       "4      Fairly strongly  "
      ]
     },
     "execution_count": 22,
     "metadata": {},
     "output_type": "execute_result"
    }
   ],
   "source": [
    "codebook_relig = {'certainly religious':1, 'somewhat religious':2, 'barely religious':3, 'certainly not religious':4}\n",
    "rel_22['cr22o162'] = rel_22['cr22o162'].replace(codebook_relig)\n",
    "rel_con = {'cr22o135':'rel_upb', 'cr22o144':'rel_aff', 'cr22o162':'relig', 'cr22o079':'lang_ori', 'cr22o164':'eth_id'}\n",
    "selected_columns = list(rel_con.keys())\n",
    "rel_22_con = rel_22.loc[:, selected_columns].rename(columns=rel_con)\n",
    "rel_22_con.head()\n",
    "\n"
   ]
  },
  {
   "cell_type": "markdown",
   "metadata": {},
   "source": [
    "Concepts in social intergation and leisure:\n",
    "\n",
    "1. Loneliness\n",
    "2. Social contacts \n",
    "3. Satisfaction leisure (cs22o001 to lei_sat)\n",
    "4. Social engagement\n",
    "5. Volunteer aid\n",
    "6. Time expenditure voluntary work\n",
    "7. Cultural participation (sum cs22o494 - cs22o496 to cul_par)\n",
    "8. Holidays (cs22o103 to ab_hol)\n",
    "9. Sport (cs22o105 to spo_h)\n",
    "10. Media usage"
   ]
  },
  {
   "cell_type": "code",
   "execution_count": 5,
   "metadata": {},
   "outputs": [
    {
     "name": "stdout",
     "output_type": "stream",
     "text": [
      "     lei_sat  cul_par ab_hol  spo_h\n",
      "0        8.0      1.0      0    3.0\n",
      "1        7.0      0.0      1    NaN\n",
      "2         10      2.0      2    NaN\n",
      "3        4.0      0.0      1    NaN\n",
      "4        9.0      6.0      0    NaN\n",
      "...      ...      ...    ...    ...\n",
      "5879     8.0      4.0      1    3.0\n",
      "5880     7.0      5.0      2    6.0\n",
      "5881     2.0      0.0      1    4.0\n",
      "5882     7.0      3.0      3   10.0\n",
      "5883     8.0      8.0      3    5.0\n",
      "\n",
      "[5884 rows x 4 columns]\n"
     ]
    }
   ],
   "source": [
    "codebook_cul = {'0 times': 0, '1 time': 1, '2 to 3 times': 2, '4 to 11 times': 3, '12 times or more': 4}\n",
    "codebook_lei = {'not at all satisfied':0, 'completely satisfied':10}\n",
    "codebook_hol = {'not once':0, 'one time':1, 'two times':2, 'three times':3, 'four times':4, 'five times or more':'≥5'}\n",
    "cul_sum = ['cs22o494', 'cs22o495', 'cs22o517', 'cs22o093', 'cs22o094', 'cs22o568', 'cs22o516', 'cs22o496']\n",
    "soc_22[cul_sum] = soc_22[cul_sum].replace(codebook_cul)\n",
    "soc_22['cs22o001'] = soc_22['cs22o001'].replace(codebook_lei)\n",
    "soc_22['cs22o103'] = soc_22['cs22o103'].replace(codebook_hol)\n",
    "soc_22['cul'] = soc_22[cul_sum].sum(axis=1)\n",
    "soc_con = {'cs22o001':'lei_sat', 'cul':'cul_par', 'cs22o103':'ab_hol', 'cs22o105':'spo_h'}\n",
    "selected_columns = list(soc_con.keys())\n",
    "soc_22_con = soc_22.loc[:, selected_columns].rename(columns=soc_con)\n",
    "    \n",
    "print(soc_22_con)"
   ]
  }
 ],
 "metadata": {
  "kernelspec": {
   "display_name": "base",
   "language": "python",
   "name": "python3"
  },
  "language_info": {
   "codemirror_mode": {
    "name": "ipython",
    "version": 3
   },
   "file_extension": ".py",
   "mimetype": "text/x-python",
   "name": "python",
   "nbconvert_exporter": "python",
   "pygments_lexer": "ipython3",
   "version": "3.9.12"
  },
  "orig_nbformat": 4
 },
 "nbformat": 4,
 "nbformat_minor": 2
}
