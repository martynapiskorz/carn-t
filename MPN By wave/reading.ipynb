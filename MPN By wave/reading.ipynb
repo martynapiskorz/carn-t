{
 "cells": [
  {
   "cell_type": "code",
   "execution_count": 9,
   "metadata": {},
   "outputs": [
    {
     "name": "stdout",
     "output_type": "stream",
     "text": [
      "(            HHID  HH_VALID  IMPHHDATA  DEELNAMEHH    JAAR  HHAUTO_N  \\\n",
      "0     30000715.0       1.0        2.0      2017.0  2019.0       1.0   \n",
      "1     30001201.0       2.0        2.0      2017.0  2019.0       2.0   \n",
      "2     30001210.0       2.0        2.0      2013.0  2019.0       1.0   \n",
      "3     30001492.0       2.0        2.0      2017.0  2019.0       1.0   \n",
      "4     30001531.0       2.0        2.0      2017.0  2019.0       1.0   \n",
      "...          ...       ...        ...         ...     ...       ...   \n",
      "3495  80000211.0       0.0        2.0      2020.0  2019.0       0.0   \n",
      "3496  80000212.0       0.0        2.0      2020.0  2019.0       1.0   \n",
      "3497  80000213.0       0.0        2.0      2020.0  2019.0       1.0   \n",
      "3498  80000214.0       0.0        2.0      2020.0  2019.0       2.0   \n",
      "3499  80000215.0       2.0        2.0      2020.0  2019.0       1.0   \n",
      "\n",
      "      KENTEKENS_INGEVULD  AUTO1  AUTO1_BRANDSTOF_A_w6  AUTO1_BRANDSTOF_B_w6  \\\n",
      "0                    1.0    1.0                   1.0                   NaN   \n",
      "1                    1.0    1.0                   1.0                   NaN   \n",
      "2                    1.0    1.0                   1.0                   NaN   \n",
      "3                    1.0    1.0                   2.0                   NaN   \n",
      "4                    1.0    1.0                   1.0                   5.0   \n",
      "...                  ...    ...                   ...                   ...   \n",
      "3495                 0.0    0.0                   NaN                   NaN   \n",
      "3496                 0.0    1.0                   1.0                   NaN   \n",
      "3497                 1.0    1.0                   1.0                   NaN   \n",
      "3498                 1.0    1.0                   1.0                   NaN   \n",
      "3499                 1.0    1.0                   1.0                   NaN   \n",
      "\n",
      "      ...  AUTO5_HLID9  AUTO5_HLID10  AUTO5_HLID11  AUTO5_HLID12  \\\n",
      "0     ...          NaN           NaN           NaN           NaN   \n",
      "1     ...          NaN           NaN           NaN           NaN   \n",
      "2     ...          NaN           NaN           NaN           NaN   \n",
      "3     ...          NaN           NaN           NaN           NaN   \n",
      "4     ...          NaN           NaN           NaN           NaN   \n",
      "...   ...          ...           ...           ...           ...   \n",
      "3495  ...          NaN           NaN           NaN           NaN   \n",
      "3496  ...          NaN           NaN           NaN           NaN   \n",
      "3497  ...          NaN           NaN           NaN           NaN   \n",
      "3498  ...          NaN           NaN           NaN           NaN   \n",
      "3499  ...          NaN           NaN           NaN           NaN   \n",
      "\n",
      "      AUTO5_HLID13  KAUTO1_BOUWJAAR  KAUTO2_BOUWJAAR  KAUTO3_BOUWJAAR  \\\n",
      "0              NaN           2013.0              NaN              NaN   \n",
      "1              NaN           2013.0           2008.0              NaN   \n",
      "2              NaN              1.0              NaN              NaN   \n",
      "3              NaN           2012.0              NaN              NaN   \n",
      "4              NaN           2009.0              NaN              NaN   \n",
      "...            ...              ...              ...              ...   \n",
      "3495           NaN              NaN              NaN              NaN   \n",
      "3496           NaN           2015.0              NaN              NaN   \n",
      "3497           NaN           2013.0              NaN              NaN   \n",
      "3498           NaN           2003.0              NaN              NaN   \n",
      "3499           NaN           2012.0              NaN              NaN   \n",
      "\n",
      "      KAUTO4_BOUWJAAR  KAUTO5_BOUWJAAR  \n",
      "0                 NaN              NaN  \n",
      "1                 NaN              NaN  \n",
      "2                 NaN              NaN  \n",
      "3                 NaN              NaN  \n",
      "4                 NaN              NaN  \n",
      "...               ...              ...  \n",
      "3495              NaN              NaN  \n",
      "3496              NaN              NaN  \n",
      "3497              NaN              NaN  \n",
      "3498              NaN              NaN  \n",
      "3499              NaN              NaN  \n",
      "\n",
      "[3500 rows x 132 columns], <pyreadstat._readstat_parser.metadata_container object at 0x7fdc98d9a6d0>)\n"
     ]
    }
   ],
   "source": [
    "import pandas as pd\n",
    "import pyreadstat as ps\n",
    "\n",
    "auto = ps.read_sav('MPNWAVE8_AUTOdata.sav')\n",
    "print(auto)\n",
    "\n",
    "\n"
   ]
  }
 ],
 "metadata": {
  "kernelspec": {
   "display_name": "base",
   "language": "python",
   "name": "python3"
  },
  "language_info": {
   "codemirror_mode": {
    "name": "ipython",
    "version": 3
   },
   "file_extension": ".py",
   "mimetype": "text/x-python",
   "name": "python",
   "nbconvert_exporter": "python",
   "pygments_lexer": "ipython3",
   "version": "3.9.12"
  },
  "orig_nbformat": 4
 },
 "nbformat": 4,
 "nbformat_minor": 2
}
