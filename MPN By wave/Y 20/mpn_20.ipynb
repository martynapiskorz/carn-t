{
 "cells": [
  {
   "cell_type": "code",
   "execution_count": 69,
   "metadata": {},
   "outputs": [],
   "source": [
    "import pandas as pd\n",
    "import pyreadstat as ps"
   ]
  },
  {
   "cell_type": "code",
   "execution_count": 70,
   "metadata": {},
   "outputs": [],
   "source": [
    "og_aut, aut_meta = ps.read_sav('MPNWAVE8_AUTOdata.sav')\n",
    "og_dab, dab_meta = ps.read_sav('MPNWAVE8_DAGBOEKdata.sav')\n",
    "og_dag, dag_meta = ps.read_sav('MPNWAVE8_DAGdata.sav')\n",
    "og_hhd, hhd_meta = ps.read_sav('MPNWAVE8_HHdata.sav')\n",
    "og_pbz, pbz_meta = ps.read_sav('MPNWAVE8_Pdata_bijzonder.sav')\n",
    "og_pda, pda_meta = ps.read_sav('MPNWAVE8_Pdata.sav')\n",
    "og_wee, wee_meta = ps.read_sav('MPNWAVE8_weegfactoren.sav')"
   ]
  },
  {
   "cell_type": "code",
   "execution_count": 72,
   "metadata": {},
   "outputs": [],
   "source": [
    "#aut cleaned\n",
    "aut_dropcols = ['KENTEKENS_INGEVULD', 'AUTO1_BRANDSTOF_A_w6', 'AUTO1_BRANDSTOF_B_w6', 'AUTO1_BIJTELLING_w5', 'AUTO1_GEWMAX', 'AUTO1_GEWLEEG',  'AUTO1_HLID5', 'AUTO1_HLID6', 'AUTO1_HLID7', 'AUTO1_HLID8', 'AUTO1_HLID9', 'AUTO1_HLID10', 'AUTO1_HLID11', 'AUTO1_HLID12', 'AUTO1_HLID13', 'AUTO2_BRANDSTOF_A_w6', 'AUTO2_BRANDSTOF_B_w6', 'AUTO2_BIJTELLING_w5','AUTO2_GEWMAX', 'AUTO2_GEWLEEG', 'AUTO2_HLID5', 'AUTO2_HLID6', 'AUTO2_HLID7', 'AUTO2_HLID8', 'AUTO2_HLID9', 'AUTO2_HLID10', 'AUTO2_HLID11', 'AUTO2_HLID12', 'AUTO2_HLID13', 'AUTO3_BRANDSTOF_A_w6', 'AUTO3_BRANDSTOF_B_w6', 'AUTO3_BIJTELLING_w5', 'AUTO3_GEWMAX', 'AUTO3_GEWLEEG', 'AUTO3_HLID5', 'AUTO3_HLID6', 'AUTO3_HLID7', 'AUTO3_HLID8', 'AUTO3_HLID9', 'AUTO3_HLID10', 'AUTO3_HLID11', 'AUTO3_HLID12','AUTO3_HLID13','AUTO4_GEWLEEG', 'AUTO4_BRANDSTOF_A_w6', 'AUTO4_BRANDSTOF_B_w6', 'AUTO4_BIJTELLING_w5','AUTO4_HLID5', 'AUTO4_HLID6', 'AUTO4_HLID7', 'AUTO4_HLID8', 'AUTO4_HLID9', 'AUTO4_HLID10', 'AUTO4_HLID11', 'AUTO4_HLID12', 'AUTO4_HLID13', 'AUTO5_BRANDSTOF_A_w6', 'AUTO5_BRANDSTOF_B_w6', 'AUTO5_BIJTELLING_w5', 'AUTO5_GEWMAX', 'AUTO5_GEWLEEG', 'AUTO5_HLID5', 'AUTO5_HLID6', 'AUTO5_HLID7', 'AUTO5_HLID8', 'AUTO5_HLID9', 'AUTO5_HLID10', 'AUTO5_HLID11', 'AUTO5_HLID12', 'AUTO5_HLID13',]\n",
    "aut_80nan = og_aut.columns[og_aut.isna().mean() > 0.8].tolist()\n",
    "aut_drop = aut_dropcols + aut_80nan\n",
    "aut = og_aut.drop(columns=aut_drop, axis=1)\n"
   ]
  },
  {
   "cell_type": "code",
   "execution_count": null,
   "metadata": {},
   "outputs": [],
   "source": [
    "#dab cleaning"
   ]
  },
  {
   "cell_type": "code",
   "execution_count": null,
   "metadata": {},
   "outputs": [],
   "source": [
    "#dag cleaning"
   ]
  },
  {
   "cell_type": "code",
   "execution_count": 75,
   "metadata": {},
   "outputs": [],
   "source": [
    "#pbz cleaned\n",
    "pbz_dropcols = ['OORDEEL_TREIN', 'OORDEEL_BTM', 'OORDEEL_FIETS', 'OORDEEL_BROMMER', 'OORDEEL_LOPEN', 'OORDEEL_VLIEGTUIG', 'GEBRUIK_TREIN_STELLING1', 'GEBRUIK_TREIN_STELLING2', 'GEBRUIK_TREIN_STELLING3', 'GEBRUIK_TREIN_STELLING4', 'GEBRUIK_TREIN_STELLING5', 'GEBRUIK_TREIN_STELLING6', 'GEBRUIK_TREIN_STELLING7', 'GEBRUIK_BTM_STELLING1', 'GEBRUIK_BTM_STELLING2', 'GEBRUIK_BTM_STELLING3', 'GEBRUIK_BTM_STELLING4', 'GEBRUIK_BTM_STELLING5', 'GEBRUIK_BTM_STELLING6', 'GEBRUIK_BTM_STELLING7', 'GEBRUIK_FIETS_STELLING1', 'GEBRUIK_FIETS_STELLING2', 'GEBRUIK_FIETS_STELLING3', 'GEBRUIK_FIETS_STELLING4', 'GEBRUIK_FIETS_STELLING5', 'GEBRUIK_FIETS_STELLING6', 'GEBRUIK_FIETS_STELLING7', 'GEBRUIK_LOPEN_STELLING1', 'GEBRUIK_LOPEN_STELLING2', 'GEBRUIK_LOPEN_STELLING3', 'GEBRUIK_LOPEN_STELLING4', 'GEBRUIK_LOPEN_STELLING5', 'GEBRUIK_LOPEN_STELLING6', 'GEBRUIK_LOPEN_STELLING7', 'VVM_TOEKOMST_ANDERS_TREIN', 'VVM_TOEKOMST_ANDERS_BTM', 'VVM_TOEKOMST_ANDERS_FIETS', 'VVM_TOEKOMST_ANDERS_BROM', 'VVM_TOEKOMST_ANDERS_LOPEN', 'VVM_TOEKOMST_ANDERS_VLIEGTUIG', 'COR_OV_VOORHEEN_TREIN', 'COR_OV_VOORHEEN_BTM', 'COR_BTM_SUBST_1', 'COR_BTM_SUBST_2', 'COR_BTM_SUBST_5', 'COR_TREIN_SUBST_1', 'COR_TREIN_SUBST_2', 'COR_TREIN_SUBST_4', 'COR_OV_SUBST_FIETS_ERV_S1', 'COR_OV_SUBST_FIETS_ERV_S2', 'COR_OV_SUBST_FIETS_ERV_S3', 'COR_OV_SUBST_BROM_ERV_S1', 'COR_OV_SUBST_BROM_ERV_S2', 'COR_OV_SUBST_BROM_ERV_S3', 'COR_OV_SUBST_LOOP_ERV_S1', 'COR_OV_SUBST_LOOP_ERV_S2', 'COR_OV_SUBST_LOOP_ERV_S3']\n",
    "pbz_80nan = og_pbz.columns[og_pbz.isna().mean() > 0.8].tolist()\n",
    "pbz_drop = pbz_dropcols + pbz_80nan\n",
    "pbz = og_pbz.drop(columns=pbz_drop, axis=1)"
   ]
  },
  {
   "cell_type": "code",
   "execution_count": 81,
   "metadata": {},
   "outputs": [
    {
     "data": {
      "text/html": [
       "<div>\n",
       "<style scoped>\n",
       "    .dataframe tbody tr th:only-of-type {\n",
       "        vertical-align: middle;\n",
       "    }\n",
       "\n",
       "    .dataframe tbody tr th {\n",
       "        vertical-align: top;\n",
       "    }\n",
       "\n",
       "    .dataframe thead th {\n",
       "        text-align: right;\n",
       "    }\n",
       "</style>\n",
       "<table border=\"1\" class=\"dataframe\">\n",
       "  <thead>\n",
       "    <tr style=\"text-align: right;\">\n",
       "      <th></th>\n",
       "      <th>HHID</th>\n",
       "      <th>HH_VALID</th>\n",
       "      <th>DEELNAME</th>\n",
       "      <th>IMPHHDATA</th>\n",
       "      <th>P_VALID</th>\n",
       "      <th>PERSID</th>\n",
       "      <th>DEELNAMEP</th>\n",
       "      <th>JAAR</th>\n",
       "      <th>GESLACHT</th>\n",
       "      <th>POSITIEHH</th>\n",
       "      <th>...</th>\n",
       "      <th>INVLOED5_EVENT_WONING13</th>\n",
       "      <th>INVLOED6_EVENT_WONING13</th>\n",
       "      <th>INVLOED7_EVENT_WONING13</th>\n",
       "      <th>INVLOED8_EVENT_WONING13</th>\n",
       "      <th>INVLOED9_EVENT_WONING13</th>\n",
       "      <th>INVLOED10_EVENT_w5_WONING13</th>\n",
       "      <th>INVLOED11_EVENT_WONING13</th>\n",
       "      <th>INVLOED12_EVENT_WONING13</th>\n",
       "      <th>INVLOED_EVENT_WONING13</th>\n",
       "      <th>KLEEFT2</th>\n",
       "    </tr>\n",
       "  </thead>\n",
       "  <tbody>\n",
       "    <tr>\n",
       "      <th>0</th>\n",
       "      <td>30000715.0</td>\n",
       "      <td>1.0</td>\n",
       "      <td>2017.0</td>\n",
       "      <td>2.0</td>\n",
       "      <td>3.0</td>\n",
       "      <td>3.000072e+09</td>\n",
       "      <td>5.0</td>\n",
       "      <td>2020.0</td>\n",
       "      <td>1.0</td>\n",
       "      <td>1.0</td>\n",
       "      <td>...</td>\n",
       "      <td>2.0</td>\n",
       "      <td>2.0</td>\n",
       "      <td>2.0</td>\n",
       "      <td>2.0</td>\n",
       "      <td>2.0</td>\n",
       "      <td>2.0</td>\n",
       "      <td>2.0</td>\n",
       "      <td>2.0</td>\n",
       "      <td>2.0</td>\n",
       "      <td>7.0</td>\n",
       "    </tr>\n",
       "    <tr>\n",
       "      <th>1</th>\n",
       "      <td>30000715.0</td>\n",
       "      <td>1.0</td>\n",
       "      <td>2017.0</td>\n",
       "      <td>2.0</td>\n",
       "      <td>3.0</td>\n",
       "      <td>3.000072e+09</td>\n",
       "      <td>5.0</td>\n",
       "      <td>2020.0</td>\n",
       "      <td>2.0</td>\n",
       "      <td>2.0</td>\n",
       "      <td>...</td>\n",
       "      <td>2.0</td>\n",
       "      <td>2.0</td>\n",
       "      <td>2.0</td>\n",
       "      <td>2.0</td>\n",
       "      <td>2.0</td>\n",
       "      <td>2.0</td>\n",
       "      <td>2.0</td>\n",
       "      <td>2.0</td>\n",
       "      <td>2.0</td>\n",
       "      <td>6.0</td>\n",
       "    </tr>\n",
       "    <tr>\n",
       "      <th>2</th>\n",
       "      <td>30000715.0</td>\n",
       "      <td>1.0</td>\n",
       "      <td>2017.0</td>\n",
       "      <td>2.0</td>\n",
       "      <td>2.0</td>\n",
       "      <td>3.000072e+09</td>\n",
       "      <td>5.0</td>\n",
       "      <td>2020.0</td>\n",
       "      <td>1.0</td>\n",
       "      <td>3.0</td>\n",
       "      <td>...</td>\n",
       "      <td>2.0</td>\n",
       "      <td>2.0</td>\n",
       "      <td>2.0</td>\n",
       "      <td>2.0</td>\n",
       "      <td>2.0</td>\n",
       "      <td>2.0</td>\n",
       "      <td>2.0</td>\n",
       "      <td>2.0</td>\n",
       "      <td>2.0</td>\n",
       "      <td>3.0</td>\n",
       "    </tr>\n",
       "    <tr>\n",
       "      <th>3</th>\n",
       "      <td>30001201.0</td>\n",
       "      <td>2.0</td>\n",
       "      <td>2017.0</td>\n",
       "      <td>2.0</td>\n",
       "      <td>3.0</td>\n",
       "      <td>3.000120e+09</td>\n",
       "      <td>5.0</td>\n",
       "      <td>2020.0</td>\n",
       "      <td>2.0</td>\n",
       "      <td>2.0</td>\n",
       "      <td>...</td>\n",
       "      <td>2.0</td>\n",
       "      <td>2.0</td>\n",
       "      <td>2.0</td>\n",
       "      <td>2.0</td>\n",
       "      <td>2.0</td>\n",
       "      <td>2.0</td>\n",
       "      <td>2.0</td>\n",
       "      <td>2.0</td>\n",
       "      <td>2.0</td>\n",
       "      <td>5.0</td>\n",
       "    </tr>\n",
       "    <tr>\n",
       "      <th>4</th>\n",
       "      <td>30001201.0</td>\n",
       "      <td>2.0</td>\n",
       "      <td>2018.0</td>\n",
       "      <td>2.0</td>\n",
       "      <td>3.0</td>\n",
       "      <td>3.000120e+09</td>\n",
       "      <td>5.0</td>\n",
       "      <td>2020.0</td>\n",
       "      <td>1.0</td>\n",
       "      <td>1.0</td>\n",
       "      <td>...</td>\n",
       "      <td>2.0</td>\n",
       "      <td>2.0</td>\n",
       "      <td>2.0</td>\n",
       "      <td>2.0</td>\n",
       "      <td>2.0</td>\n",
       "      <td>2.0</td>\n",
       "      <td>2.0</td>\n",
       "      <td>2.0</td>\n",
       "      <td>2.0</td>\n",
       "      <td>5.0</td>\n",
       "    </tr>\n",
       "  </tbody>\n",
       "</table>\n",
       "<p>5 rows × 780 columns</p>\n",
       "</div>"
      ],
      "text/plain": [
       "         HHID  HH_VALID  DEELNAME  IMPHHDATA  P_VALID        PERSID  \\\n",
       "0  30000715.0       1.0    2017.0        2.0      3.0  3.000072e+09   \n",
       "1  30000715.0       1.0    2017.0        2.0      3.0  3.000072e+09   \n",
       "2  30000715.0       1.0    2017.0        2.0      2.0  3.000072e+09   \n",
       "3  30001201.0       2.0    2017.0        2.0      3.0  3.000120e+09   \n",
       "4  30001201.0       2.0    2018.0        2.0      3.0  3.000120e+09   \n",
       "\n",
       "   DEELNAMEP    JAAR  GESLACHT  POSITIEHH  ...  INVLOED5_EVENT_WONING13  \\\n",
       "0        5.0  2020.0       1.0        1.0  ...                      2.0   \n",
       "1        5.0  2020.0       2.0        2.0  ...                      2.0   \n",
       "2        5.0  2020.0       1.0        3.0  ...                      2.0   \n",
       "3        5.0  2020.0       2.0        2.0  ...                      2.0   \n",
       "4        5.0  2020.0       1.0        1.0  ...                      2.0   \n",
       "\n",
       "   INVLOED6_EVENT_WONING13  INVLOED7_EVENT_WONING13  INVLOED8_EVENT_WONING13  \\\n",
       "0                      2.0                      2.0                      2.0   \n",
       "1                      2.0                      2.0                      2.0   \n",
       "2                      2.0                      2.0                      2.0   \n",
       "3                      2.0                      2.0                      2.0   \n",
       "4                      2.0                      2.0                      2.0   \n",
       "\n",
       "   INVLOED9_EVENT_WONING13  INVLOED10_EVENT_w5_WONING13  \\\n",
       "0                      2.0                          2.0   \n",
       "1                      2.0                          2.0   \n",
       "2                      2.0                          2.0   \n",
       "3                      2.0                          2.0   \n",
       "4                      2.0                          2.0   \n",
       "\n",
       "   INVLOED11_EVENT_WONING13  INVLOED12_EVENT_WONING13  INVLOED_EVENT_WONING13  \\\n",
       "0                       2.0                       2.0                     2.0   \n",
       "1                       2.0                       2.0                     2.0   \n",
       "2                       2.0                       2.0                     2.0   \n",
       "3                       2.0                       2.0                     2.0   \n",
       "4                       2.0                       2.0                     2.0   \n",
       "\n",
       "   KLEEFT2  \n",
       "0      7.0  \n",
       "1      6.0  \n",
       "2      3.0  \n",
       "3      5.0  \n",
       "4      5.0  \n",
       "\n",
       "[5 rows x 780 columns]"
      ]
     },
     "execution_count": 81,
     "metadata": {},
     "output_type": "execute_result"
    }
   ],
   "source": [
    "og_pda.head()"
   ]
  },
  {
   "cell_type": "code",
   "execution_count": 79,
   "metadata": {},
   "outputs": [
    {
     "name": "stdout",
     "output_type": "stream",
     "text": [
      "['HHID', 'HH_VALID', 'DEELNAME', 'IMPHHDATA', 'P_VALID', 'PERSID', 'DEELNAMEP', 'JAAR', 'GESLACHT', 'POSITIEHH', 'HERKOMST_w5', 'WERKSITUATIE_MEEST_w5', 'WERKSITUATIE_ANDERS1', 'WERKSITUATIE_ANDERS2', 'WERKSITUATIE_ANDERS3', 'WERKSITUATIE_ANDERS4', 'WERKSITUATIE_ANDERS5', 'WERKSITUATIE_ANDERS6', 'WERKSITUATIE_ANDERS7', 'WERKSITUATIE_ANDERS8', 'WERKZAAM', 'SECTORWERK', 'OPLEIDING', 'FUNCTIE_WERK', 'WERKURENRECENT', 'WERKURENRECENT_CONTINU', 'N_URENVAST', 'N_URENVAST_CONTINU', 'N_URENTHUIS', 'N_URENTHUIS_CONTINU', 'N_URENELDERS', 'N_URENELDERS_CONTINU', 'N_URENONDERWEG', 'N_URENONDERWEG_CONTINU', 'VVM_WERK_w5', 'RIJBEWIJS', 'RIJBEWIJS_AUTO', 'RIJBEWIJS_MOTOR', 'RIJBEWIJS_BROM_w5', 'RIJBEWIJS_VRACHT_w5', 'PVVM', 'PAUTO', 'PHYBRID', 'PBESTEL', 'PMOTOR', 'PBROM', 'PSNOR', 'PFIETS', 'PVOUWFIETS', 'PEBIKE', 'PSCOOT', 'PPEDEL', 'POVERIG', 'STELLING_PARK', 'STELLING_AUTO', 'STELLING_FIETS_w5', 'STELLING_OV', 'VVM_VOORKEUR_w5_WERK', 'VVM_VOORKEUR_w5_ZAKELIJK', 'VVM_VOORKEUR_w5_SCHOOL', 'VVM_VOORKEUR_w5_BOODSCH', 'VVM_VOORKEUR_w5_WINKEL', 'VVM_VOORKEUR_HORECA', 'VVM_VOORKEUR_w5_VISITE', 'VVM_VOORKEUR_w5_EROPUIT', 'VVM_VOORKEUR_w5_SPORTEN', 'VVM_VOORKEUR_MANTELZORG', 'VVM_VOORKEUR_VTOVERIG', 'SPITSMIJDEN_OCHTEND_AUTO', 'SPITSMIJDEN_AVOND_AUTO', 'SPITSMIJDEN_OCHTEND_OV', 'SPITSMIJDEN_AVOND_OV', 'VOORKEUR_WERK1', 'VOORKEUR_WERK2', 'VOORKEUR_WERK3', 'VOORKEUR_WERK4', 'VOORKEUR_w5_WERK5', 'VOORKEUR_WERK6', 'VOORKEUR_WERK7', 'VOORKEUR_WERK8', 'VOORKEUR_WERK10', 'VOORKEUR_WERK11', 'VOORKEUR_WERK12', 'VOORKEUR_ZAKELIJK1', 'VOORKEUR_ZAKELIJK2', 'VOORKEUR_ZAKELIJK3', 'VOORKEUR_ZAKELIJK4', 'VOORKEUR_w5_ZAKELIJK5', 'VOORKEUR_ZAKELIJK6', 'VOORKEUR_ZAKELIJK7', 'VOORKEUR_ZAKELIJK8', 'VOORKEUR_ZAKELIJK10', 'VOORKEUR_ZAKELIJK11', 'VOORKEUR_ZAKELIJK12', 'VOORKEUR_SCHOOL1', 'VOORKEUR_SCHOOL2', 'VOORKEUR_SCHOOL3', 'VOORKEUR_SCHOOL4', 'VOORKEUR_w5_SCHOOL5', 'VOORKEUR_SCHOOL6', 'VOORKEUR_SCHOOL7', 'VOORKEUR_SCHOOL8', 'VOORKEUR_SCHOOL10', 'VOORKEUR_SCHOOL11', 'VOORKEUR_SCHOOL12', 'VOORKEUR_BOODSCH1', 'VOORKEUR_BOODSCH2', 'VOORKEUR_BOODSCH3', 'VOORKEUR_BOODSCH4', 'VOORKEUR_w5_BOODSCH5', 'VOORKEUR_BOODSCH6', 'VOORKEUR_BOODSCH7', 'VOORKEUR_BOODSCH8', 'VOORKEUR_BOODSCH10', 'VOORKEUR_BOODSCH11', 'VOORKEUR_BOODSCH12', 'VOORKEUR_WINKEL1', 'VOORKEUR_WINKEL2', 'VOORKEUR_WINKEL3', 'VOORKEUR_WINKEL4', 'VOORKEUR_w5_WINKEL5', 'VOORKEUR_WINKEL6', 'VOORKEUR_WINKEL7', 'VOORKEUR_WINKEL8', 'VOORKEUR_WINKEL10', 'VOORKEUR_WINKEL11', 'VOORKEUR_WINKEL12', 'VOORKEUR_HORECA1', 'VOORKEUR_HORECA2', 'VOORKEUR_HORECA3', 'VOORKEUR_HORECA4', 'VOORKEUR_HORECA5', 'VOORKEUR_HORECA6', 'VOORKEUR_HORECA7', 'VOORKEUR_HORECA8', 'VOORKEUR_HORECA10', 'VOORKEUR_HORECA11', 'VOORKEUR_HORECA12', 'VOORKEUR_VISITE1', 'VOORKEUR_VISITE2', 'VOORKEUR_VISITE3', 'VOORKEUR_VISITE4', 'VOORKEUR_w5_VISITE5', 'VOORKEUR_VISITE6', 'VOORKEUR_VISITE7', 'VOORKEUR_VISITE8', 'VOORKEUR_VISITE10', 'VOORKEUR_VISITE11', 'VOORKEUR_VISITE12', 'VOORKEUR_EROPUIT1', 'VOORKEUR_EROPUIT2', 'VOORKEUR_EROPUIT3', 'VOORKEUR_EROPUIT4', 'VOORKEUR_w5_EROPUIT5', 'VOORKEUR_EROPUIT6', 'VOORKEUR_EROPUIT7', 'VOORKEUR_EROPUIT8', 'VOORKEUR_EROPUIT10', 'VOORKEUR_EROPUIT11', 'VOORKEUR_EROPUIT12', 'VOORKEUR_SPORTEN1', 'VOORKEUR_SPORTEN2', 'VOORKEUR_SPORTEN3', 'VOORKEUR_SPORTEN4', 'VOORKEUR_w5_SPORTEN5', 'VOORKEUR_SPORTEN6', 'VOORKEUR_SPORTEN7', 'VOORKEUR_SPORTEN8', 'VOORKEUR_SPORTEN10', 'VOORKEUR_SPORTEN11', 'VOORKEUR_SPORTEN12', 'VOORKEUR_MANTELZORG1', 'VOORKEUR_MANTELZORG2', 'VOORKEUR_MANTELZORG3', 'VOORKEUR_MANTELZORG4', 'VOORKEUR_MANTELZORG5', 'VOORKEUR_MANTELZORG6', 'VOORKEUR_MANTELZORG7', 'VOORKEUR_MANTELZORG8', 'VOORKEUR_MANTELZORG10', 'VOORKEUR_MANTELZORG11', 'VOORKEUR_MANTELZORG12', 'VOORKEUR_VTOVERIG1', 'VOORKEUR_VTOVERIG2', 'VOORKEUR_VTOVERIG3', 'VOORKEUR_VTOVERIG4', 'VOORKEUR_VTOVERIG5', 'VOORKEUR_VTOVERIG6', 'VOORKEUR_VTOVERIG7', 'VOORKEUR_VTOVERIG8', 'VOORKEUR_VTOVERIG10', 'VOORKEUR_VTOVERIG11', 'VOORKEUR_VTOVERIG12', 'BEZIT_OVKAART', 'TYPE_OVKAART1', 'TYPE_OVKAART2', 'TYPE_OVKAART3', 'TYPE_OVKAART4', 'TYPE_OVKAART5', 'TYPE_OVKAART6', 'TYPE_OVKAART7', 'TYPE_OVKAART8', 'TYPE_OVKAART9', 'BESCHIK_AUTO', 'GEBRUIK_PARK1', 'GEBRUIK_PARK2', 'GEBRUIK_PARK3', 'GEBRUIK_PARK4', 'N_ACTIVITEIT_w5_1', 'N_ACTIVITEIT_w5_2', 'N_ACTIVITEIT11', 'N_ACTIVITEIT_w5_4', 'N_ACTIVITEIT_w5_5', 'N_ACTIVITEIT12', 'N_ACTIVITEIT_w5_8', 'N_ACTIVITEIT14', 'N_ACTIVITEIT_w5_10', 'N_ACTIVITEIT13', 'GEBRUIK_AUTO_w5', 'GEBRUIK_MOTOR_w5', 'GEBRUIK_TREIN_w5', 'GEBRUIK_BTM_w5', 'GEBRUIK_SNOR', 'GEBRUIK_BROM_w5', 'GEBRUIK_FIETS_w5', 'GEBRUIK_EBIKE', 'GEBRUIK_PEDEL', 'GEBRUIK_SCOOTMOB', 'GEBRUIK_LOPEN_w5', 'GEBRUIK_VLIEGEN_ZAKELIJK', 'GEBRUIK_VLIEGEN_PRIVE', 'EVENT1', 'EVENT3', 'EVENT4', 'EVENT5', 'EVENT6', 'EVENT7', 'EVENT8', 'EVENT9', 'EVENT10', 'EVENT11', 'EVENT12', 'EVENT13', 'EVENT14', 'EVENT15', 'EVENT16', 'EVENT17', 'EVENT1_w5_TIJD', 'EVENT3_w5_TIJD', 'EVENT4_w5_TIJD', 'EVENT5_w5_TIJD', 'EVENT6_w5_TIJD', 'EVENT7_w5_TIJD', 'EVENT8_w5_TIJD', 'EVENT9_w5_TIJD', 'EVENT10_w5_TIJD', 'EVENT11_w5_TIJD', 'EVENT12_w5_TIJD', 'EVENT13_w5_TIJD', 'EVENT14_w5_TIJD', 'EVENT15_w5_TIJD', 'EVENT16_w5_TIJD', 'EVENT17_w5_TIJD', 'INVLOED1', 'INVLOED2', 'INVLOED3', 'INVLOED4', 'INVLOED5', 'INVLOED6', 'INVLOED7', 'INVLOED8', 'INVLOED9', 'INVLOED_w5_10', 'INVLOED11', 'INVLOED12', 'INVLOED1_w5_EVENT1', 'INVLOED2_w5_EVENT1', 'INVLOED3_w5_EVENT1', 'INVLOED4_w5_EVENT1', 'INVLOED5_w5_EVENT1', 'INVLOED6_w5_EVENT1', 'INVLOED7_w5_EVENT1', 'INVLOED8_w5_EVENT1', 'INVLOED9_w5_EVENT1', 'INVLOED10_w5_EVENT1', 'INVLOED11_w5_EVENT1', 'INVLOED12_w5_EVENT1', 'INVLOED_w5_EVENT1', 'INVLOED1_w5_EVENT3', 'INVLOED2_w5_EVENT3', 'INVLOED3_w5_EVENT3', 'INVLOED4_w5_EVENT3', 'INVLOED5_w5_EVENT3', 'INVLOED6_w5_EVENT3', 'INVLOED7_w5_EVENT3', 'INVLOED8_w5_EVENT3', 'INVLOED9_w5_EVENT3', 'INVLOED10_w5_EVENT3', 'INVLOED11_w5_EVENT3', 'INVLOED12_w5_EVENT3', 'INVLOED_w5_EVENT3', 'INVLOED1_w5_EVENT4', 'INVLOED2_w5_EVENT4', 'INVLOED3_w5_EVENT4', 'INVLOED4_w5_EVENT4', 'INVLOED5_w5_EVENT4', 'INVLOED6_w5_EVENT4', 'INVLOED7_w5_EVENT4', 'INVLOED8_w5_EVENT4', 'INVLOED9_w5_EVENT4', 'INVLOED10_w5_EVENT4', 'INVLOED11_w5_EVENT4', 'INVLOED12_w5_EVENT4', 'INVLOED_w5_EVENT4', 'INVLOED1_w5_EVENT5', 'INVLOED2_w5_EVENT5', 'INVLOED3_w5_EVENT5', 'INVLOED4_w5_EVENT5', 'INVLOED5_w5_EVENT5', 'INVLOED6_w5_EVENT5', 'INVLOED7_w5_EVENT5', 'INVLOED8_w5_EVENT5', 'INVLOED9_w5_EVENT5', 'INVLOED10_w5_EVENT5', 'INVLOED11_w5_EVENT5', 'INVLOED12_w5_EVENT5', 'INVLOED_w5_EVENT5', 'INVLOED1_w5_EVENT6', 'INVLOED2_w5_EVENT6', 'INVLOED3_w5_EVENT6', 'INVLOED4_w5_EVENT6', 'INVLOED5_w5_EVENT6', 'INVLOED6_w5_EVENT6', 'INVLOED7_w5_EVENT6', 'INVLOED8_w5_EVENT6', 'INVLOED9_w5_EVENT6', 'INVLOED10_w5_EVENT6', 'INVLOED11_w5_EVENT6', 'INVLOED12_w5_EVENT6', 'INVLOED_w5_EVENT6', 'INVLOED1_w5_EVENT7', 'INVLOED2_w5_EVENT7', 'INVLOED3_w5_EVENT7', 'INVLOED4_w5_EVENT7', 'INVLOED5_w5_EVENT7', 'INVLOED6_w5_EVENT7', 'INVLOED7_w5_EVENT7', 'INVLOED8_w5_EVENT7', 'INVLOED9_w5_EVENT7', 'INVLOED10_w5_EVENT7', 'INVLOED11_w5_EVENT7', 'INVLOED12_w5_EVENT7', 'INVLOED_w5_EVENT7', 'INVLOED1_w5_EVENT8', 'INVLOED2_w5_EVENT8', 'INVLOED3_w5_EVENT8', 'INVLOED4_w5_EVENT8', 'INVLOED5_w5_EVENT8', 'INVLOED6_w5_EVENT8', 'INVLOED7_w5_EVENT8', 'INVLOED8_w5_EVENT8', 'INVLOED9_w5_EVENT8', 'INVLOED10_w5_EVENT8', 'INVLOED11_w5_EVENT8', 'INVLOED12_w5_EVENT8', 'INVLOED_w5_EVENT8', 'INVLOED1_w5_EVENT9', 'INVLOED2_w5_EVENT9', 'INVLOED3_w5_EVENT9', 'INVLOED4_w5_EVENT9', 'INVLOED5_w5_EVENT9', 'INVLOED6_w5_EVENT9', 'INVLOED7_w5_EVENT9', 'INVLOED8_w5_EVENT9', 'INVLOED9_w5_EVENT9', 'INVLOED10_w5_EVENT9', 'INVLOED11_w5_EVENT9', 'INVLOED12_w5_EVENT9', 'INVLOED_w5_EVENT9', 'INVLOED1_w5_EVENT10', 'INVLOED2_w5_EVENT10', 'INVLOED3_w5_EVENT10', 'INVLOED4_w5_EVENT10', 'INVLOED5_w5_EVENT10', 'INVLOED6_w5_EVENT10', 'INVLOED7_w5_EVENT10', 'INVLOED8_w5_EVENT10', 'INVLOED9_w5_EVENT10', 'INVLOED10_w5_EVENT10', 'INVLOED11_w5_EVENT10', 'INVLOED12_w5_EVENT10', 'INVLOED_w5_EVENT10', 'INVLOED1_w5_EVENT11', 'INVLOED2_w5_EVENT11', 'INVLOED3_w5_EVENT11', 'INVLOED4_w5_EVENT11', 'INVLOED5_w5_EVENT11', 'INVLOED6_w5_EVENT11', 'INVLOED7_w5_EVENT11', 'INVLOED8_w5_EVENT11', 'INVLOED9_w5_EVENT11', 'INVLOED10_w5_EVENT11', 'INVLOED11_w5_EVENT11', 'INVLOED12_w5_EVENT11', 'INVLOED_w5_EVENT11', 'INVLOED1_w5_EVENT12', 'INVLOED2_w5_EVENT12', 'INVLOED3_w5_EVENT12', 'INVLOED4_w5_EVENT12', 'INVLOED5_w5_EVENT12', 'INVLOED6_w5_EVENT12', 'INVLOED7_w5_EVENT12', 'INVLOED8_w5_EVENT12', 'INVLOED9_w5_EVENT12', 'INVLOED10_w5_EVENT12', 'INVLOED11_w5_EVENT12', 'INVLOED12_w5_EVENT12', 'INVLOED_w5_EVENT12', 'INVLOED1_w5_EVENT13', 'INVLOED2_w5_EVENT13', 'INVLOED3_w5_EVENT13', 'INVLOED4_w5_EVENT13', 'INVLOED5_w5_EVENT13', 'INVLOED6_w5_EVENT13', 'INVLOED7_w5_EVENT13', 'INVLOED8_w5_EVENT13', 'INVLOED9_w5_EVENT13', 'INVLOED10_w5_EVENT13', 'INVLOED11_w5_EVENT13', 'INVLOED12_w5_EVENT13', 'INVLOED_w5_EVENT13', 'INVLOED1_w5_EVENT14', 'INVLOED2_w5_EVENT14', 'INVLOED3_w5_EVENT14', 'INVLOED4_w5_EVENT14', 'INVLOED5_w5_EVENT14', 'INVLOED6_w5_EVENT14', 'INVLOED7_w5_EVENT14', 'INVLOED8_w5_EVENT14', 'INVLOED9_w5_EVENT14', 'INVLOED10_w5_EVENT14', 'INVLOED11_w5_EVENT14', 'INVLOED12_w5_EVENT14', 'INVLOED_w5_EVENT14', 'INVLOED1_w5_EVENT15', 'INVLOED2_w5_EVENT15', 'INVLOED3_w5_EVENT15', 'INVLOED4_w5_EVENT15', 'INVLOED5_w5_EVENT15', 'INVLOED6_w5_EVENT15', 'INVLOED7_w5_EVENT15', 'INVLOED8_w5_EVENT15', 'INVLOED9_w5_EVENT15', 'INVLOED10_w5_EVENT15', 'INVLOED11_w5_EVENT15', 'INVLOED12_w5_EVENT15', 'INVLOED_w5_EVENT15', 'INVLOED1_w5_EVENT16', 'INVLOED2_w5_EVENT16', 'INVLOED3_w5_EVENT16', 'INVLOED4_w5_EVENT16', 'INVLOED5_w5_EVENT16', 'INVLOED6_w5_EVENT16', 'INVLOED7_w5_EVENT16', 'INVLOED8_w5_EVENT16', 'INVLOED9_w5_EVENT16', 'INVLOED10_w5_EVENT16', 'INVLOED11_w5_EVENT16', 'INVLOED12_w5_EVENT16', 'INVLOED_w5_EVENT16', 'INVLOED1_w5_EVENT17', 'INVLOED2_w5_EVENT17', 'INVLOED3_w5_EVENT17', 'INVLOED4_w5_EVENT17', 'INVLOED5_w5_EVENT17', 'INVLOED6_w5_EVENT17', 'INVLOED7_w5_EVENT17', 'INVLOED8_w5_EVENT17', 'INVLOED9_w5_EVENT17', 'INVLOED10_w5_EVENT17', 'INVLOED11_w5_EVENT17', 'INVLOED12_w5_EVENT17', 'INVLOED_w5_EVENT17', 'EVENT_ICT1', 'EVENT_ICT2', 'EVENT_ICT3', 'EVENT_ICT4', 'EVENT_ICT5', 'EVENT_ICT6', 'EVENT_ICT13', 'EVENT_ICT14', 'EVENT_ICT', 'INVLOED1_EVENT_ICT1', 'INVLOED2_EVENT_ICT1', 'INVLOED3_EVENT_ICT1', 'INVLOED4_EVENT_ICT1', 'INVLOED5_EVENT_ICT1', 'INVLOED6_EVENT_ICT1', 'INVLOED7_EVENT_ICT1', 'INVLOED8_EVENT_ICT1', 'INVLOED9_EVENT_ICT1', 'INVLOED10_EVENT_w5_ICT1', 'INVLOED11_EVENT_ICT1', 'INVLOED12_EVENT_ICT1', 'INVLOED_EVENT_ICT1', 'INVLOED1_EVENT_ICT2', 'INVLOED2_EVENT_ICT2', 'INVLOED3_EVENT_ICT2', 'INVLOED4_EVENT_ICT2', 'INVLOED5_EVENT_ICT2', 'INVLOED6_EVENT_ICT2', 'INVLOED7_EVENT_ICT2', 'INVLOED8_EVENT_ICT2', 'INVLOED9_EVENT_ICT2', 'INVLOED10_EVENT_w5_ICT2', 'INVLOED11_EVENT_ICT2', 'INVLOED12_EVENT_ICT2', 'INVLOED_EVENT_ICT2', 'INVLOED1_EVENT_ICT3', 'INVLOED2_EVENT_ICT3', 'INVLOED3_EVENT_ICT3', 'INVLOED4_EVENT_ICT3', 'INVLOED5_EVENT_ICT3', 'INVLOED6_EVENT_ICT3', 'INVLOED7_EVENT_ICT3', 'INVLOED8_EVENT_ICT3', 'INVLOED9_EVENT_ICT3', 'INVLOED10_EVENT_w5_ICT3', 'INVLOED11_EVENT_ICT3', 'INVLOED12_EVENT_ICT3', 'INVLOED_EVENT_ICT3', 'INVLOED1_EVENT_ICT4', 'INVLOED2_EVENT_ICT4', 'INVLOED3_EVENT_ICT4', 'INVLOED4_EVENT_ICT4', 'INVLOED5_EVENT_ICT4', 'INVLOED6_EVENT_ICT4', 'INVLOED7_EVENT_ICT4', 'INVLOED8_EVENT_ICT4', 'INVLOED9_EVENT_ICT4', 'INVLOED10_EVENT_w5_ICT4', 'INVLOED11_EVENT_ICT4', 'INVLOED12_EVENT_ICT4', 'INVLOED_EVENT_ICT4', 'INVLOED1_EVENT_ICT5', 'INVLOED2_EVENT_ICT5', 'INVLOED3_EVENT_ICT5', 'INVLOED4_EVENT_ICT5', 'INVLOED5_EVENT_ICT5', 'INVLOED6_EVENT_ICT5', 'INVLOED7_EVENT_ICT5', 'INVLOED8_EVENT_ICT5', 'INVLOED9_EVENT_ICT5', 'INVLOED10_EVENT_w5_ICT5', 'INVLOED11_EVENT_ICT5', 'INVLOED12_EVENT_ICT5', 'INVLOED_EVENT_ICT5', 'INVLOED1_EVENT_ICT6', 'INVLOED2_EVENT_ICT6', 'INVLOED3_EVENT_ICT6', 'INVLOED4_EVENT_ICT6', 'INVLOED5_EVENT_ICT6', 'INVLOED6_EVENT_ICT6', 'INVLOED7_EVENT_ICT6', 'INVLOED8_EVENT_ICT6', 'INVLOED9_EVENT_ICT6', 'INVLOED10_EVENT_w5_ICT6', 'INVLOED11_EVENT_ICT6', 'INVLOED12_EVENT_ICT6', 'INVLOED_EVENT_ICT6', 'INVLOED1_EVENT_ICT13', 'INVLOED2_EVENT_ICT13', 'INVLOED3_EVENT_ICT13', 'INVLOED4_EVENT_ICT13', 'INVLOED5_EVENT_ICT13', 'INVLOED6_EVENT_ICT13', 'INVLOED7_EVENT_ICT13', 'INVLOED8_EVENT_ICT13', 'INVLOED9_EVENT_ICT13', 'INVLOED10_EVENT_w5_ICT13', 'INVLOED11_EVENT_ICT13', 'INVLOED12_EVENT_ICT13', 'INVLOED_EVENT_ICT13', 'INVLOED1_EVENT_ICT14', 'INVLOED2_EVENT_ICT14', 'INVLOED3_EVENT_ICT14', 'INVLOED4_EVENT_ICT14', 'INVLOED5_EVENT_ICT14', 'INVLOED6_EVENT_ICT14', 'INVLOED7_EVENT_ICT14', 'INVLOED8_EVENT_ICT14', 'INVLOED9_EVENT_ICT14', 'INVLOED10_EVENT_w5_ICT14', 'INVLOED11_EVENT_ICT14', 'INVLOED12_EVENT_ICT14', 'INVLOED_EVENT_ICT14', 'EVENT_w5_WONING1', 'EVENT_w5_WONING2', 'EVENT_WONING3', 'EVENT_WONING4', 'EVENT_WONING5', 'EVENT_WONING6', 'EVENT_WONING7', 'EVENT_WONING8', 'EVENT_WONING9', 'EVENT_WONING10', 'EVENT_WONING11', 'EVENT_WONING12', 'EVENT_WONING13', 'EVENT_WONING', 'INVLOED1_EVENT_w5_WONING1', 'INVLOED2_EVENT_w5_WONING1', 'INVLOED3_EVENT_w5_WONING1', 'INVLOED4_EVENT_w5_WONING1', 'INVLOED5_EVENT_w5_WONING1', 'INVLOED6_EVENT_w5_WONING1', 'INVLOED7_EVENT_w5_WONING1', 'INVLOED8_EVENT_w5_WONING1', 'INVLOED9_EVENT_w5_WONING1', 'INVLOED10_EVENT_w5_WONING1', 'INVLOED11_EVENT_w5_WONING1', 'INVLOED12_EVENT_w5_WONING1', 'INVLOED_EVENT_w5_WONING1', 'INVLOED1_EVENT_w5_WONING2', 'INVLOED2_EVENT_w5_WONING2', 'INVLOED3_EVENT_w5_WONING2', 'INVLOED4_EVENT_w5_WONING2', 'INVLOED5_EVENT_w5_WONING2', 'INVLOED6_EVENT_w5_WONING2', 'INVLOED7_EVENT_w5_WONING2', 'INVLOED8_EVENT_w5_WONING2', 'INVLOED9_EVENT_w5_WONING2', 'INVLOED10_EVENT_w5_WONING2', 'INVLOED11_EVENT_w5_WONING2', 'INVLOED12_EVENT_w5_WONING2', 'INVLOED_EVENT_w5_WONING2', 'INVLOED1_EVENT_WONING3', 'INVLOED2_EVENT_WONING3', 'INVLOED3_EVENT_WONING3', 'INVLOED4_EVENT_WONING3', 'INVLOED5_EVENT_WONING3', 'INVLOED6_EVENT_WONING3', 'INVLOED7_EVENT_WONING3', 'INVLOED8_EVENT_WONING3', 'INVLOED9_EVENT_WONING3', 'INVLOED10_EVENT_w5_WONING3', 'INVLOED11_EVENT_WONING3', 'INVLOED12_EVENT_WONING3', 'INVLOED_EVENT_WONING3', 'INVLOED1_EVENT_WONING4', 'INVLOED2_EVENT_WONING4', 'INVLOED3_EVENT_WONING4', 'INVLOED4_EVENT_WONING4', 'INVLOED5_EVENT_WONING4', 'INVLOED6_EVENT_WONING4', 'INVLOED7_EVENT_WONING4', 'INVLOED8_EVENT_WONING4', 'INVLOED9_EVENT_WONING4', 'INVLOED10_EVENT_w5_WONING4', 'INVLOED11_EVENT_WONING4', 'INVLOED12_EVENT_WONING4', 'INVLOED_EVENT_WONING4', 'INVLOED1_EVENT_WONING5', 'INVLOED2_EVENT_WONING5', 'INVLOED3_EVENT_WONING5', 'INVLOED4_EVENT_WONING5', 'INVLOED5_EVENT_WONING5', 'INVLOED6_EVENT_WONING5', 'INVLOED7_EVENT_WONING5', 'INVLOED8_EVENT_WONING5', 'INVLOED9_EVENT_WONING5', 'INVLOED10_EVENT_w5_WONING5', 'INVLOED11_EVENT_WONING5', 'INVLOED12_EVENT_WONING5', 'INVLOED_EVENT_WONING5', 'INVLOED1_EVENT_WONING6', 'INVLOED2_EVENT_WONING6', 'INVLOED3_EVENT_WONING6', 'INVLOED4_EVENT_WONING6', 'INVLOED5_EVENT_WONING6', 'INVLOED6_EVENT_WONING6', 'INVLOED7_EVENT_WONING6', 'INVLOED8_EVENT_WONING6', 'INVLOED9_EVENT_WONING6', 'INVLOED10_EVENT_w5_WONING6', 'INVLOED11_EVENT_WONING6', 'INVLOED12_EVENT_WONING6', 'INVLOED_EVENT_WONING6', 'INVLOED1_EVENT_WONING7', 'INVLOED2_EVENT_WONING7', 'INVLOED3_EVENT_WONING7', 'INVLOED4_EVENT_WONING7', 'INVLOED5_EVENT_WONING7', 'INVLOED6_EVENT_WONING7', 'INVLOED7_EVENT_WONING7', 'INVLOED8_EVENT_WONING7', 'INVLOED9_EVENT_WONING7', 'INVLOED10_EVENT_w5_WONING7', 'INVLOED11_EVENT_WONING7', 'INVLOED12_EVENT_WONING7', 'INVLOED_EVENT_WONING7', 'INVLOED1_EVENT_WONING8', 'INVLOED2_EVENT_WONING8', 'INVLOED3_EVENT_WONING8', 'INVLOED4_EVENT_WONING8', 'INVLOED5_EVENT_WONING8', 'INVLOED6_EVENT_WONING8', 'INVLOED7_EVENT_WONING8', 'INVLOED8_EVENT_WONING8', 'INVLOED9_EVENT_WONING8', 'INVLOED10_EVENT_w5_WONING8', 'INVLOED11_EVENT_WONING8', 'INVLOED12_EVENT_WONING8', 'INVLOED_EVENT_WONING8', 'INVLOED1_EVENT_WONING9', 'INVLOED2_EVENT_WONING9', 'INVLOED3_EVENT_WONING9', 'INVLOED4_EVENT_WONING9', 'INVLOED5_EVENT_WONING9', 'INVLOED6_EVENT_WONING9', 'INVLOED7_EVENT_WONING9', 'INVLOED8_EVENT_WONING9', 'INVLOED9_EVENT_WONING9', 'INVLOED10_EVENT_w5_WONING9', 'INVLOED12_EVENT_WONING9', 'INVLOED11_EVENT_WONING9', 'INVLOED_EVENT_WONING9', 'INVLOED1_EVENT_WONING10', 'INVLOED2_EVENT_WONING10', 'INVLOED3_EVENT_WONING10', 'INVLOED4_EVENT_WONING10', 'INVLOED5_EVENT_WONING10', 'INVLOED6_EVENT_WONING10', 'INVLOED7_EVENT_WONING10', 'INVLOED8_EVENT_WONING10', 'INVLOED9_EVENT_WONING10', 'INVLOED10_EVENT_w5_WONING10', 'INVLOED11_EVENT_WONING10', 'INVLOED12_EVENT_WONING10', 'INVLOED_EVENT_WONING10', 'INVLOED1_EVENT_WONING11', 'INVLOED2_EVENT_WONING11', 'INVLOED3_EVENT_WONING11', 'INVLOED4_EVENT_WONING11', 'INVLOED5_EVENT_WONING11', 'INVLOED6_EVENT_WONING11', 'INVLOED7_EVENT_WONING11', 'INVLOED8_EVENT_WONING11', 'INVLOED9_EVENT_WONING11', 'INVLOED10_EVENT_w5_WONING11', 'INVLOED11_EVENT_WONING11', 'INVLOED12_EVENT_WONING11', 'INVLOED_EVENT_WONING11', 'INVLOED1_EVENT_WONING12', 'INVLOED2_EVENT_WONING12', 'INVLOED3_EVENT_WONING12', 'INVLOED4_EVENT_WONING12', 'INVLOED5_EVENT_WONING12', 'INVLOED6_EVENT_WONING12', 'INVLOED7_EVENT_WONING12', 'INVLOED8_EVENT_WONING12', 'INVLOED9_EVENT_WONING12', 'INVLOED10_EVENT_w5_WONING12', 'INVLOED11_EVENT_WONING12', 'INVLOED12_EVENT_WONING12', 'INVLOED_EVENT_WONING12', 'INVLOED1_EVENT_WONING13', 'INVLOED2_EVENT_WONING13', 'INVLOED3_EVENT_WONING13', 'INVLOED4_EVENT_WONING13', 'INVLOED5_EVENT_WONING13', 'INVLOED6_EVENT_WONING13', 'INVLOED7_EVENT_WONING13', 'INVLOED8_EVENT_WONING13', 'INVLOED9_EVENT_WONING13', 'INVLOED10_EVENT_w5_WONING13', 'INVLOED11_EVENT_WONING13', 'INVLOED12_EVENT_WONING13', 'INVLOED_EVENT_WONING13', 'KLEEFT2']\n"
     ]
    },
    {
     "data": {
      "text/plain": [
       "'\\npda_dropcols = []\\npda_80nan = og_pda.columns[og_pda.isna().mean() > 0.8].tolist()\\npda_drop = pda_dropcols + pda_80nan\\npda = og_pda.drop(columns=pda_drop, axis=1)\\n'"
      ]
     },
     "execution_count": 79,
     "metadata": {},
     "output_type": "execute_result"
    }
   ],
   "source": [
    "#pda cleaned\n",
    "print(og_pda.columns.tolist())\n",
    "\"\"\"\n",
    "pda_dropcols = []\n",
    "pda_80nan = og_pda.columns[og_pda.isna().mean() > 0.8].tolist()\n",
    "pda_drop = pda_dropcols + pda_80nan\n",
    "pda = og_pda.drop(columns=pda_drop, axis=1)\n",
    "\"\"\""
   ]
  },
  {
   "cell_type": "code",
   "execution_count": null,
   "metadata": {},
   "outputs": [],
   "source": [
    "all = [aut, dab, dag, hhd, pbz, pda, wee]\n"
   ]
  },
  {
   "cell_type": "code",
   "execution_count": null,
   "metadata": {},
   "outputs": [],
   "source": [
    "for i, df in enumerate(all):\n",
    "    if not isinstance(df, (pd.DataFrame, pd.Series)):\n",
    "        print(f\"Element {i} is of type {type(df)}, not a Pandas DataFrame or Series.\")"
   ]
  },
  {
   "cell_type": "code",
   "execution_count": null,
   "metadata": {},
   "outputs": [
    {
     "ename": "ValueError",
     "evalue": "too many values to unpack (expected 2)",
     "output_type": "error",
     "traceback": [
      "\u001b[0;31m---------------------------------------------------------------------------\u001b[0m",
      "\u001b[0;31mValueError\u001b[0m                                Traceback (most recent call last)",
      "\u001b[1;32m/Users/majamurawka/Documents/GitHub/carn-t/MPN By wave/Y 20/mpn_20.ipynb Cell 8\u001b[0m line \u001b[0;36m4\n\u001b[1;32m      <a href='vscode-notebook-cell:/Users/majamurawka/Documents/GitHub/carn-t/MPN%20By%20wave/Y%2020/mpn_20.ipynb#X11sZmlsZQ%3D%3D?line=0'>1</a>\u001b[0m merged \u001b[39m=\u001b[39m \u001b[39mall\u001b[39m[\u001b[39m0\u001b[39m]\n\u001b[1;32m      <a href='vscode-notebook-cell:/Users/majamurawka/Documents/GitHub/carn-t/MPN%20By%20wave/Y%2020/mpn_20.ipynb#X11sZmlsZQ%3D%3D?line=2'>3</a>\u001b[0m \u001b[39mfor\u001b[39;00m df \u001b[39min\u001b[39;00m \u001b[39mall\u001b[39m[\u001b[39m1\u001b[39m:]:\n\u001b[0;32m----> <a href='vscode-notebook-cell:/Users/majamurawka/Documents/GitHub/carn-t/MPN%20By%20wave/Y%2020/mpn_20.ipynb#X11sZmlsZQ%3D%3D?line=3'>4</a>\u001b[0m     merged \u001b[39m=\u001b[39m pd\u001b[39m.\u001b[39mmerge(merged, df, on\u001b[39m=\u001b[39m\u001b[39m'\u001b[39m\u001b[39mHHID\u001b[39m\u001b[39m'\u001b[39m, how\u001b[39m=\u001b[39m\u001b[39m'\u001b[39m\u001b[39minner\u001b[39m\u001b[39m'\u001b[39m, suffixes\u001b[39m=\u001b[39m(\u001b[39m'\u001b[39m\u001b[39m_aut\u001b[39m\u001b[39m'\u001b[39m, \u001b[39m'\u001b[39m\u001b[39m_dab\u001b[39m\u001b[39m'\u001b[39m, \u001b[39m'\u001b[39m\u001b[39m_dag\u001b[39m\u001b[39m'\u001b[39m, \u001b[39m'\u001b[39m\u001b[39m_hhd\u001b[39m\u001b[39m'\u001b[39m, \u001b[39m'\u001b[39m\u001b[39m_pbz\u001b[39m\u001b[39m'\u001b[39m, \u001b[39m'\u001b[39m\u001b[39m_pda\u001b[39m\u001b[39m'\u001b[39m, \u001b[39m'\u001b[39m\u001b[39m_wee\u001b[39m\u001b[39m'\u001b[39m))\n",
      "File \u001b[0;32m~/opt/anaconda3/envs/myenv/lib/python3.11/site-packages/pandas/core/reshape/merge.py:183\u001b[0m, in \u001b[0;36mmerge\u001b[0;34m(left, right, how, on, left_on, right_on, left_index, right_index, sort, suffixes, copy, indicator, validate)\u001b[0m\n\u001b[1;32m    168\u001b[0m \u001b[39melse\u001b[39;00m:\n\u001b[1;32m    169\u001b[0m     op \u001b[39m=\u001b[39m _MergeOperation(\n\u001b[1;32m    170\u001b[0m         left_df,\n\u001b[1;32m    171\u001b[0m         right_df,\n\u001b[0;32m   (...)\u001b[0m\n\u001b[1;32m    181\u001b[0m         validate\u001b[39m=\u001b[39mvalidate,\n\u001b[1;32m    182\u001b[0m     )\n\u001b[0;32m--> 183\u001b[0m     \u001b[39mreturn\u001b[39;00m op\u001b[39m.\u001b[39mget_result(copy\u001b[39m=\u001b[39mcopy)\n",
      "File \u001b[0;32m~/opt/anaconda3/envs/myenv/lib/python3.11/site-packages/pandas/core/reshape/merge.py:885\u001b[0m, in \u001b[0;36m_MergeOperation.get_result\u001b[0;34m(self, copy)\u001b[0m\n\u001b[1;32m    881\u001b[0m     \u001b[39mself\u001b[39m\u001b[39m.\u001b[39mleft, \u001b[39mself\u001b[39m\u001b[39m.\u001b[39mright \u001b[39m=\u001b[39m \u001b[39mself\u001b[39m\u001b[39m.\u001b[39m_indicator_pre_merge(\u001b[39mself\u001b[39m\u001b[39m.\u001b[39mleft, \u001b[39mself\u001b[39m\u001b[39m.\u001b[39mright)\n\u001b[1;32m    883\u001b[0m join_index, left_indexer, right_indexer \u001b[39m=\u001b[39m \u001b[39mself\u001b[39m\u001b[39m.\u001b[39m_get_join_info()\n\u001b[0;32m--> 885\u001b[0m result \u001b[39m=\u001b[39m \u001b[39mself\u001b[39m\u001b[39m.\u001b[39m_reindex_and_concat(\n\u001b[1;32m    886\u001b[0m     join_index, left_indexer, right_indexer, copy\u001b[39m=\u001b[39mcopy\n\u001b[1;32m    887\u001b[0m )\n\u001b[1;32m    888\u001b[0m result \u001b[39m=\u001b[39m result\u001b[39m.\u001b[39m__finalize__(\u001b[39mself\u001b[39m, method\u001b[39m=\u001b[39m\u001b[39mself\u001b[39m\u001b[39m.\u001b[39m_merge_type)\n\u001b[1;32m    890\u001b[0m \u001b[39mif\u001b[39;00m \u001b[39mself\u001b[39m\u001b[39m.\u001b[39mindicator:\n",
      "File \u001b[0;32m~/opt/anaconda3/envs/myenv/lib/python3.11/site-packages/pandas/core/reshape/merge.py:837\u001b[0m, in \u001b[0;36m_MergeOperation._reindex_and_concat\u001b[0;34m(self, join_index, left_indexer, right_indexer, copy)\u001b[0m\n\u001b[1;32m    834\u001b[0m left \u001b[39m=\u001b[39m \u001b[39mself\u001b[39m\u001b[39m.\u001b[39mleft[:]\n\u001b[1;32m    835\u001b[0m right \u001b[39m=\u001b[39m \u001b[39mself\u001b[39m\u001b[39m.\u001b[39mright[:]\n\u001b[0;32m--> 837\u001b[0m llabels, rlabels \u001b[39m=\u001b[39m _items_overlap_with_suffix(\n\u001b[1;32m    838\u001b[0m     \u001b[39mself\u001b[39m\u001b[39m.\u001b[39mleft\u001b[39m.\u001b[39m_info_axis, \u001b[39mself\u001b[39m\u001b[39m.\u001b[39mright\u001b[39m.\u001b[39m_info_axis, \u001b[39mself\u001b[39m\u001b[39m.\u001b[39msuffixes\n\u001b[1;32m    839\u001b[0m )\n\u001b[1;32m    841\u001b[0m \u001b[39mif\u001b[39;00m left_indexer \u001b[39mis\u001b[39;00m \u001b[39mnot\u001b[39;00m \u001b[39mNone\u001b[39;00m \u001b[39mand\u001b[39;00m \u001b[39mnot\u001b[39;00m is_range_indexer(left_indexer, \u001b[39mlen\u001b[39m(left)):\n\u001b[1;32m    842\u001b[0m     \u001b[39m# Pinning the index here (and in the right code just below) is not\u001b[39;00m\n\u001b[1;32m    843\u001b[0m     \u001b[39m#  necessary, but makes the `.take` more performant if we have e.g.\u001b[39;00m\n\u001b[1;32m    844\u001b[0m     \u001b[39m#  a MultiIndex for left.index.\u001b[39;00m\n\u001b[1;32m    845\u001b[0m     lmgr \u001b[39m=\u001b[39m left\u001b[39m.\u001b[39m_mgr\u001b[39m.\u001b[39mreindex_indexer(\n\u001b[1;32m    846\u001b[0m         join_index,\n\u001b[1;32m    847\u001b[0m         left_indexer,\n\u001b[0;32m   (...)\u001b[0m\n\u001b[1;32m    852\u001b[0m         use_na_proxy\u001b[39m=\u001b[39m\u001b[39mTrue\u001b[39;00m,\n\u001b[1;32m    853\u001b[0m     )\n",
      "File \u001b[0;32m~/opt/anaconda3/envs/myenv/lib/python3.11/site-packages/pandas/core/reshape/merge.py:2652\u001b[0m, in \u001b[0;36m_items_overlap_with_suffix\u001b[0;34m(left, right, suffixes)\u001b[0m\n\u001b[1;32m   2649\u001b[0m \u001b[39mif\u001b[39;00m \u001b[39mlen\u001b[39m(to_rename) \u001b[39m==\u001b[39m \u001b[39m0\u001b[39m:\n\u001b[1;32m   2650\u001b[0m     \u001b[39mreturn\u001b[39;00m left, right\n\u001b[0;32m-> 2652\u001b[0m lsuffix, rsuffix \u001b[39m=\u001b[39m suffixes\n\u001b[1;32m   2654\u001b[0m \u001b[39mif\u001b[39;00m \u001b[39mnot\u001b[39;00m lsuffix \u001b[39mand\u001b[39;00m \u001b[39mnot\u001b[39;00m rsuffix:\n\u001b[1;32m   2655\u001b[0m     \u001b[39mraise\u001b[39;00m \u001b[39mValueError\u001b[39;00m(\u001b[39mf\u001b[39m\u001b[39m\"\u001b[39m\u001b[39mcolumns overlap but no suffix specified: \u001b[39m\u001b[39m{\u001b[39;00mto_rename\u001b[39m}\u001b[39;00m\u001b[39m\"\u001b[39m)\n",
      "\u001b[0;31mValueError\u001b[0m: too many values to unpack (expected 2)"
     ]
    }
   ],
   "source": [
    "merged = all[0]\n",
    "\n",
    "for df in all[1:]:\n",
    "    merged = pd.merge(merged, df, on='HHID', how='inner', suffixes=('_aut', '_dab', '_dag', '_hhd', '_pbz', '_pda', '_wee'))"
   ]
  }
 ],
 "metadata": {
  "kernelspec": {
   "display_name": "base",
   "language": "python",
   "name": "python3"
  },
  "language_info": {
   "codemirror_mode": {
    "name": "ipython",
    "version": 3
   },
   "file_extension": ".py",
   "mimetype": "text/x-python",
   "name": "python",
   "nbconvert_exporter": "python",
   "pygments_lexer": "ipython3",
   "version": "3.11.5"
  },
  "orig_nbformat": 4
 },
 "nbformat": 4,
 "nbformat_minor": 2
}
