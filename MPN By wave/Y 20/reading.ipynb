{
 "cells": [
  {
   "cell_type": "code",
   "execution_count": 8,
   "metadata": {},
   "outputs": [
    {
     "name": "stdout",
     "output_type": "stream",
     "text": [
      "   Household ID  Research year  Number of cars per hh  First car hh  \\\n",
      "0    30000715.0         2019.0                    1.0           1.0   \n",
      "1    30001201.0         2019.0                    2.0           1.0   \n",
      "2    30001210.0         2019.0                    1.0           1.0   \n",
      "3    30001492.0         2019.0                    1.0           1.0   \n",
      "4    30001531.0         2019.0                    1.0           1.0   \n",
      "\n",
      "   Fuel type 1st car  Annual number of kilometres 1st car  Purchase 1st car  \\\n",
      "0                1.0                                  2.0               1.0   \n",
      "1                1.0                                  4.0               1.0   \n",
      "2                1.0                                  1.0               1.0   \n",
      "3                2.0                                  2.0               1.0   \n",
      "4                1.0                                  1.0               1.0   \n",
      "\n",
      "   If a company car: additional (tax) liability category for the 1st car  \\\n",
      "0                                            99998.0                       \n",
      "1                                            99998.0                       \n",
      "2                                            99998.0                       \n",
      "3                                            99998.0                       \n",
      "4                                            99998.0                       \n",
      "\n",
      "   Main user of 1st car  MAX vehicle weight 1st car  Vehicle type of 1st car  \\\n",
      "0                   2.0                      1765.0                      5.0   \n",
      "1                   2.0                      1560.0                      8.0   \n",
      "2                   1.0                      1345.0                      5.0   \n",
      "3                   1.0                      2080.0                      8.0   \n",
      "4                   1.0                      2505.0                      8.0   \n",
      "\n",
      "   If a company car: private use of this car  \\\n",
      "0                                       97.0   \n",
      "1                                       97.0   \n",
      "2                                       97.0   \n",
      "3                                       97.0   \n",
      "4                                       97.0   \n",
      "\n",
      "   HH member 1 uses 1st car at least once a month  \\\n",
      "0                                             1.0   \n",
      "1                                             1.0   \n",
      "2                                             1.0   \n",
      "3                                             1.0   \n",
      "4                                             1.0   \n",
      "\n",
      "   HH member 2 uses 1st car at least once a month  \n",
      "0                                             1.0  \n",
      "1                                             1.0  \n",
      "2                                             NaN  \n",
      "3                                             NaN  \n",
      "4                                             0.0  \n"
     ]
    }
   ],
   "source": [
    "import pandas as pd\n",
    "import pyreadstat as ps\n",
    "\n",
    "auto, meta = ps.read_sav('MPNWAVE8_AUTOdata.sav')\n",
    "\n",
    "selected_columns = {\n",
    "    'HHID': 'Household ID',\n",
    "    'JAAR': 'Research year',\n",
    "    'HHAUTO_N': 'Number of cars per hh',\n",
    "    'AUTO1': 'First car hh',\n",
    "    'AUTO1_BRANDSTOF_A_w6': 'Fuel type 1st car',\n",
    "    'AUTO1_KM': 'Annual number of kilometres 1st car',\n",
    "    'AUTO1_AANSCHAF': 'Purchase 1st car',\n",
    "    'AUTO1_BIJTELLING_w5': 'If a company car: additional (tax) liability category for the 1st car',\n",
    "    'AUTO1_HFDGBR': 'Main user of 1st car',\n",
    "    'AUTO1_GEWMAX': 'MAX vehicle weight 1st car',\n",
    "    'AUTO1_INRICHT': 'Vehicle type of 1st car',\n",
    "    'AUTO1_PRIVE': 'If a company car: private use of this car',\n",
    "    'AUTO1_HLID1': 'HH member 1 uses 1st car at least once a month',\n",
    "    'AUTO1_HLID2': 'HH member 2 uses 1st car at least once a month'\n",
    "}\n",
    "\n",
    "auto_selected = auto[list(selected_columns.keys())]\n",
    "auto_selected.columns = list(selected_columns.values())\n",
    "print(auto_selected.head())\n"
   ]
  }
 ],
 "metadata": {
  "kernelspec": {
   "display_name": "base",
   "language": "python",
   "name": "python3"
  },
  "language_info": {
   "codemirror_mode": {
    "name": "ipython",
    "version": 3
   },
   "file_extension": ".py",
   "mimetype": "text/x-python",
   "name": "python",
   "nbconvert_exporter": "python",
   "pygments_lexer": "ipython3",
   "version": "3.9.12"
  },
  "orig_nbformat": 4
 },
 "nbformat": 4,
 "nbformat_minor": 2
}
