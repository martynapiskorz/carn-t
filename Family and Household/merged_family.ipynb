{
 "cells": [
  {
   "cell_type": "code",
   "execution_count": 1,
   "metadata": {},
   "outputs": [],
   "source": [
    "import numpy as np\n",
    "import pandas as pd"
   ]
  },
  {
   "cell_type": "code",
   "execution_count": null,
   "metadata": {},
   "outputs": [],
   "source": [
    "fam_2008 = pd.read_stata('cf08a_2p_EN/cf08a_2p_EN.dta')\n",
    "fam_2010 = pd.read_stata('cf10c_EN_1.0p/cf10c_EN_1.0p.dta')\n",
    "fam_2012 = pd.read_stata('cf12e_EN_2.1p/cf12e_EN_2.1p.dta')\n",
    "fam_2014 = pd.read_stata('cf14g_EN_1.1p/cf14g_EN_1.1p.dta')\n",
    "fam_2016 = pd.read_stata('cf16i_EN_1.0p/cf16i_EN_1.0p.dta')\n",
    "fam_2018 = pd.read_stata('cf18k_EN_1.0p/cf18k_EN_1.0p.dta')\n",
    "fam_2020 = pd.read_stata('cf20m_EN_1.0p/cf20m_EN_1.0p.dta')\n",
    "fam_2022 = pd.read_stata('cf22o_EN_1.0p/cf22o_EN_1.0p.dta')"
   ]
  }
 ],
 "metadata": {
  "kernelspec": {
   "display_name": "base",
   "language": "python",
   "name": "python3"
  },
  "language_info": {
   "codemirror_mode": {
    "name": "ipython",
    "version": 3
   },
   "file_extension": ".py",
   "mimetype": "text/x-python",
   "name": "python",
   "nbconvert_exporter": "python",
   "pygments_lexer": "ipython3",
   "version": "3.9.12"
  },
  "orig_nbformat": 4
 },
 "nbformat": 4,
 "nbformat_minor": 2
}
